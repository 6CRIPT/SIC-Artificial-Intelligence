{
  "cells": [
    {
      "cell_type": "markdown",
      "metadata": {
        "id": "-jdojxBULnCK"
      },
      "source": [
        "# Chapter 3"
      ]
    },
    {
      "cell_type": "markdown",
      "metadata": {
        "id": "EKABVqpDLnCL"
      },
      "source": [
        "## AI Course"
      ]
    },
    {
      "cell_type": "markdown",
      "metadata": {
        "id": "ndK04r3CLnCM"
      },
      "source": [
        "## Student Name:"
      ]
    },
    {
      "cell_type": "markdown",
      "metadata": {
        "id": "NcjM4nV5LnCM"
      },
      "source": [
        "César Martínez Chico "
      ]
    },
    {
      "cell_type": "markdown",
      "metadata": {
        "id": "yYO31lkdLnCM"
      },
      "source": [
        "## Q1.\tAnswer the following questions using Pandas library."
      ]
    },
    {
      "cell_type": "code",
      "execution_count": null,
      "metadata": {
        "colab": {
          "base_uri": "https://localhost:8080/",
          "height": 206
        },
        "id": "K8yEdQzzLnCM",
        "outputId": "0dcd44ed-c72c-4950-ab46-2ceec4a20568"
      },
      "outputs": [
        {
          "output_type": "execute_result",
          "data": {
            "text/plain": [
              "              Name Gender  Age  Grade Absence Bloodtype  Height  Weight\n",
              "0    Jared Diamond      M   23      3       Y         O   165.3    68.2\n",
              "1   Sarah O'Donnel      F   22      2       N        AB   170.1    53.0\n",
              "2     Brian Martin      M   24      4       N         B   175.0    80.1\n",
              "3     David Hassel      M   23      3       N        AB   182.1    85.7\n",
              "4  Clara Rodriquez      F   20      1       Y         A   168.0    49.5"
            ],
            "text/html": [
              "\n",
              "  <div id=\"df-6a6479a8-b078-451e-8a19-04fba86cac6b\">\n",
              "    <div class=\"colab-df-container\">\n",
              "      <div>\n",
              "<style scoped>\n",
              "    .dataframe tbody tr th:only-of-type {\n",
              "        vertical-align: middle;\n",
              "    }\n",
              "\n",
              "    .dataframe tbody tr th {\n",
              "        vertical-align: top;\n",
              "    }\n",
              "\n",
              "    .dataframe thead th {\n",
              "        text-align: right;\n",
              "    }\n",
              "</style>\n",
              "<table border=\"1\" class=\"dataframe\">\n",
              "  <thead>\n",
              "    <tr style=\"text-align: right;\">\n",
              "      <th></th>\n",
              "      <th>Name</th>\n",
              "      <th>Gender</th>\n",
              "      <th>Age</th>\n",
              "      <th>Grade</th>\n",
              "      <th>Absence</th>\n",
              "      <th>Bloodtype</th>\n",
              "      <th>Height</th>\n",
              "      <th>Weight</th>\n",
              "    </tr>\n",
              "  </thead>\n",
              "  <tbody>\n",
              "    <tr>\n",
              "      <th>0</th>\n",
              "      <td>Jared Diamond</td>\n",
              "      <td>M</td>\n",
              "      <td>23</td>\n",
              "      <td>3</td>\n",
              "      <td>Y</td>\n",
              "      <td>O</td>\n",
              "      <td>165.3</td>\n",
              "      <td>68.2</td>\n",
              "    </tr>\n",
              "    <tr>\n",
              "      <th>1</th>\n",
              "      <td>Sarah O'Donnel</td>\n",
              "      <td>F</td>\n",
              "      <td>22</td>\n",
              "      <td>2</td>\n",
              "      <td>N</td>\n",
              "      <td>AB</td>\n",
              "      <td>170.1</td>\n",
              "      <td>53.0</td>\n",
              "    </tr>\n",
              "    <tr>\n",
              "      <th>2</th>\n",
              "      <td>Brian Martin</td>\n",
              "      <td>M</td>\n",
              "      <td>24</td>\n",
              "      <td>4</td>\n",
              "      <td>N</td>\n",
              "      <td>B</td>\n",
              "      <td>175.0</td>\n",
              "      <td>80.1</td>\n",
              "    </tr>\n",
              "    <tr>\n",
              "      <th>3</th>\n",
              "      <td>David Hassel</td>\n",
              "      <td>M</td>\n",
              "      <td>23</td>\n",
              "      <td>3</td>\n",
              "      <td>N</td>\n",
              "      <td>AB</td>\n",
              "      <td>182.1</td>\n",
              "      <td>85.7</td>\n",
              "    </tr>\n",
              "    <tr>\n",
              "      <th>4</th>\n",
              "      <td>Clara Rodriquez</td>\n",
              "      <td>F</td>\n",
              "      <td>20</td>\n",
              "      <td>1</td>\n",
              "      <td>Y</td>\n",
              "      <td>A</td>\n",
              "      <td>168.0</td>\n",
              "      <td>49.5</td>\n",
              "    </tr>\n",
              "  </tbody>\n",
              "</table>\n",
              "</div>\n",
              "      <button class=\"colab-df-convert\" onclick=\"convertToInteractive('df-6a6479a8-b078-451e-8a19-04fba86cac6b')\"\n",
              "              title=\"Convert this dataframe to an interactive table.\"\n",
              "              style=\"display:none;\">\n",
              "        \n",
              "  <svg xmlns=\"http://www.w3.org/2000/svg\" height=\"24px\"viewBox=\"0 0 24 24\"\n",
              "       width=\"24px\">\n",
              "    <path d=\"M0 0h24v24H0V0z\" fill=\"none\"/>\n",
              "    <path d=\"M18.56 5.44l.94 2.06.94-2.06 2.06-.94-2.06-.94-.94-2.06-.94 2.06-2.06.94zm-11 1L8.5 8.5l.94-2.06 2.06-.94-2.06-.94L8.5 2.5l-.94 2.06-2.06.94zm10 10l.94 2.06.94-2.06 2.06-.94-2.06-.94-.94-2.06-.94 2.06-2.06.94z\"/><path d=\"M17.41 7.96l-1.37-1.37c-.4-.4-.92-.59-1.43-.59-.52 0-1.04.2-1.43.59L10.3 9.45l-7.72 7.72c-.78.78-.78 2.05 0 2.83L4 21.41c.39.39.9.59 1.41.59.51 0 1.02-.2 1.41-.59l7.78-7.78 2.81-2.81c.8-.78.8-2.07 0-2.86zM5.41 20L4 18.59l7.72-7.72 1.47 1.35L5.41 20z\"/>\n",
              "  </svg>\n",
              "      </button>\n",
              "      \n",
              "  <style>\n",
              "    .colab-df-container {\n",
              "      display:flex;\n",
              "      flex-wrap:wrap;\n",
              "      gap: 12px;\n",
              "    }\n",
              "\n",
              "    .colab-df-convert {\n",
              "      background-color: #E8F0FE;\n",
              "      border: none;\n",
              "      border-radius: 50%;\n",
              "      cursor: pointer;\n",
              "      display: none;\n",
              "      fill: #1967D2;\n",
              "      height: 32px;\n",
              "      padding: 0 0 0 0;\n",
              "      width: 32px;\n",
              "    }\n",
              "\n",
              "    .colab-df-convert:hover {\n",
              "      background-color: #E2EBFA;\n",
              "      box-shadow: 0px 1px 2px rgba(60, 64, 67, 0.3), 0px 1px 3px 1px rgba(60, 64, 67, 0.15);\n",
              "      fill: #174EA6;\n",
              "    }\n",
              "\n",
              "    [theme=dark] .colab-df-convert {\n",
              "      background-color: #3B4455;\n",
              "      fill: #D2E3FC;\n",
              "    }\n",
              "\n",
              "    [theme=dark] .colab-df-convert:hover {\n",
              "      background-color: #434B5C;\n",
              "      box-shadow: 0px 1px 3px 1px rgba(0, 0, 0, 0.15);\n",
              "      filter: drop-shadow(0px 1px 2px rgba(0, 0, 0, 0.3));\n",
              "      fill: #FFFFFF;\n",
              "    }\n",
              "  </style>\n",
              "\n",
              "      <script>\n",
              "        const buttonEl =\n",
              "          document.querySelector('#df-6a6479a8-b078-451e-8a19-04fba86cac6b button.colab-df-convert');\n",
              "        buttonEl.style.display =\n",
              "          google.colab.kernel.accessAllowed ? 'block' : 'none';\n",
              "\n",
              "        async function convertToInteractive(key) {\n",
              "          const element = document.querySelector('#df-6a6479a8-b078-451e-8a19-04fba86cac6b');\n",
              "          const dataTable =\n",
              "            await google.colab.kernel.invokeFunction('convertToInteractive',\n",
              "                                                     [key], {});\n",
              "          if (!dataTable) return;\n",
              "\n",
              "          const docLinkHtml = 'Like what you see? Visit the ' +\n",
              "            '<a target=\"_blank\" href=https://colab.research.google.com/notebooks/data_table.ipynb>data table notebook</a>'\n",
              "            + ' to learn more about interactive tables.';\n",
              "          element.innerHTML = '';\n",
              "          dataTable['output_type'] = 'display_data';\n",
              "          await google.colab.output.renderOutput(dataTable, element);\n",
              "          const docLink = document.createElement('div');\n",
              "          docLink.innerHTML = docLinkHtml;\n",
              "          element.appendChild(docLink);\n",
              "        }\n",
              "      </script>\n",
              "    </div>\n",
              "  </div>\n",
              "  "
            ]
          },
          "metadata": {},
          "execution_count": 104
        }
      ],
      "source": [
        "import pandas as pd\n",
        "import os\n",
        "\n",
        "# Read in the data.\n",
        "# Go to the directory where the data file is located. \n",
        "# os.chdir(r'~~')                # Please, replace the path with your own.\n",
        "df = pd.read_csv('data_studentlist.csv', header='infer')\n",
        "df.head(5)"
      ]
    },
    {
      "cell_type": "markdown",
      "metadata": {
        "id": "0Os_VIQILnCM"
      },
      "source": [
        "### Q1.1 Average height of the male students:"
      ]
    },
    {
      "cell_type": "code",
      "execution_count": null,
      "metadata": {
        "colab": {
          "base_uri": "https://localhost:8080/"
        },
        "id": "OZe8tkmdLnCN",
        "outputId": "4db0363b-8e15-44fb-c6b4-a811edec34ed"
      },
      "outputs": [
        {
          "output_type": "stream",
          "name": "stdout",
          "text": [
            "La media de la altura de los hombres es: 172.41\n"
          ]
        }
      ],
      "source": [
        "#voy a redondear a 2 decimales todos, para evitar los tipicos numeros con 800 decimales, como seria este caso.\n",
        "mediaHombres = round(df[df['Gender'] == 'M']['Height'].mean(),2)\n",
        "print(\"La media de la altura de los hombres es: \" + str(mediaHombres))"
      ]
    },
    {
      "cell_type": "markdown",
      "metadata": {
        "id": "kjfUsif0LnCN"
      },
      "source": [
        "### Q1.2 Average height of the female students:"
      ]
    },
    {
      "cell_type": "code",
      "execution_count": null,
      "metadata": {
        "colab": {
          "base_uri": "https://localhost:8080/"
        },
        "id": "9xMxbow5LnCN",
        "outputId": "f58e2067-a2e0-4238-9c53-50671eaecbdb"
      },
      "outputs": [
        {
          "output_type": "stream",
          "name": "stdout",
          "text": [
            "La media de la altura de las mujeres: 166.64\n"
          ]
        }
      ],
      "source": [
        "mediaMujeres = round(df[df['Gender']=='F']['Height'].mean(),2)\n",
        "print(\"La media de la altura de las mujeres: \" + str(mediaMujeres))"
      ]
    },
    {
      "cell_type": "markdown",
      "metadata": {
        "id": "UM_fmcUuLnCN"
      },
      "source": [
        "### Q1.3 Average weight of the male students:"
      ]
    },
    {
      "cell_type": "code",
      "execution_count": null,
      "metadata": {
        "colab": {
          "base_uri": "https://localhost:8080/"
        },
        "id": "U1nxB5XVLnCN",
        "outputId": "d92c9dec-8a2c-4f18-d07c-d97be5278248"
      },
      "outputs": [
        {
          "output_type": "stream",
          "name": "stdout",
          "text": [
            "La media del peso de los hombres es : 68.5\n"
          ]
        }
      ],
      "source": [
        "pesoHombres = round(df[df['Gender']=='M']['Weight'].mean(),2)\n",
        "print(\"La media del peso de los hombres es : \" + str(pesoHombres))"
      ]
    },
    {
      "cell_type": "markdown",
      "metadata": {
        "id": "08A1kt3-LnCN"
      },
      "source": [
        "### Q1.4 Average weight of the female students:"
      ]
    },
    {
      "cell_type": "code",
      "execution_count": null,
      "metadata": {
        "colab": {
          "base_uri": "https://localhost:8080/"
        },
        "id": "bk0hWl93LnCN",
        "outputId": "3b34eff1-5615-4967-c95e-ddb965f8e73c"
      },
      "outputs": [
        {
          "output_type": "stream",
          "name": "stdout",
          "text": [
            "La media del peso de las mujeres es: 50.44\n"
          ]
        }
      ],
      "source": [
        "pesoMujeres = round(df[df['Gender']=='F']['Weight'].mean(),2)\n",
        "print(\"La media del peso de las mujeres es: \" + str(pesoMujeres))"
      ]
    },
    {
      "cell_type": "markdown",
      "metadata": {
        "id": "yNB1-N8lLnCN"
      },
      "source": [
        "### Q1.5 The tallest height among the male students:"
      ]
    },
    {
      "cell_type": "code",
      "execution_count": null,
      "metadata": {
        "colab": {
          "base_uri": "https://localhost:8080/"
        },
        "id": "RI0EwHMdLnCN",
        "outputId": "bf2d41d0-2b15-4d0e-d5be-aebfe7d4ac63"
      },
      "outputs": [
        {
          "output_type": "stream",
          "name": "stdout",
          "text": [
            "La altura máxima de entre los hombres es: 182.1\n"
          ]
        }
      ],
      "source": [
        "maxAltura = round(df[df['Gender'] == 'M']['Height'].max(),2)\n",
        "print(\"La altura máxima de entre los hombres es: \" + str(maxAltura))"
      ]
    },
    {
      "cell_type": "markdown",
      "metadata": {
        "id": "txWHOPZvLnCN"
      },
      "source": [
        "### Q1.6 The shortest height among the female students:"
      ]
    },
    {
      "cell_type": "code",
      "execution_count": null,
      "metadata": {
        "colab": {
          "base_uri": "https://localhost:8080/"
        },
        "id": "mecitBxCLnCN",
        "outputId": "e599d241-f08a-40f3-e9df-f4ab8b8c3e8d"
      },
      "outputs": [
        {
          "output_type": "stream",
          "name": "stdout",
          "text": [
            "La altura mínima de entre las mujeres es: 155.2\n"
          ]
        }
      ],
      "source": [
        "minAltura = round(df[df['Gender'] == 'F']['Height'].min(),2)\n",
        "print(\"La altura mínima de entre las mujeres es: \" + str(minAltura))"
      ]
    },
    {
      "cell_type": "markdown",
      "metadata": {
        "id": "UUNi_g5SLnCN"
      },
      "source": [
        "### Q1.7 The lightest weight among the male students of height taller than 175cm:"
      ]
    },
    {
      "cell_type": "code",
      "execution_count": null,
      "metadata": {
        "colab": {
          "base_uri": "https://localhost:8080/"
        },
        "id": "WG8smzh2LnCN",
        "outputId": "7f87df99-ef1f-482d-b842-ddac875d954d"
      },
      "outputs": [
        {
          "output_type": "stream",
          "name": "stdout",
          "text": [
            "Peso más ligero entre los hombres que son más altos que 175cm 61.3\n"
          ]
        }
      ],
      "source": [
        "minPesoAltura = round(df[(df['Gender'] == 'M') & (df['Height'] > 175)]['Weight'].min(),2)\n",
        "print(\"Peso más ligero entre los hombres que son más altos que 175cm \" + str(minPesoAltura))"
      ]
    },
    {
      "cell_type": "markdown",
      "metadata": {
        "id": "XpvEAW8CLnCO"
      },
      "source": [
        "### Q1.8 The heaviest weight among the female students of height shorter than 160cm:"
      ]
    },
    {
      "cell_type": "code",
      "execution_count": null,
      "metadata": {
        "colab": {
          "base_uri": "https://localhost:8080/"
        },
        "id": "GbgSfpKlLnCO",
        "outputId": "86087f12-ebd2-44a1-e083-0354ab91c106"
      },
      "outputs": [
        {
          "output_type": "stream",
          "name": "stdout",
          "text": [
            "El peso más pesado entre las mujeres más bajitas que 160cm: 45.3\n"
          ]
        }
      ],
      "source": [
        "mascara = (df['Gender']=='F') & (df['Height'] < 160) #aqui uso mascara porque no me aclaraba del todo, pero en casi todos los he hecho de una\n",
        "maxPesoAltura = df[mascara]['Weight'].max()\n",
        "print(\"El peso más pesado entre las mujeres más bajitas que 160cm: \" + str(maxPesoAltura))"
      ]
    },
    {
      "cell_type": "markdown",
      "metadata": {
        "id": "BhuFc0JwLnCO"
      },
      "source": [
        "### Q1.9 The average grade of students without absence ('N'):"
      ]
    },
    {
      "cell_type": "code",
      "execution_count": null,
      "metadata": {
        "colab": {
          "base_uri": "https://localhost:8080/"
        },
        "id": "oU7P3UkxLnCO",
        "outputId": "db7db849-301f-4e46-e270-6545b2fd4dfc"
      },
      "outputs": [
        {
          "output_type": "stream",
          "name": "stdout",
          "text": [
            "La nota promedio con ausencia = 'N' es: 2.08\n"
          ]
        }
      ],
      "source": [
        "notaPromedio =round(df[df['Absence'] == 'N']['Grade'].mean(),2) \n",
        "print(\"La nota promedio con ausencia = 'N' es: \" + str(notaPromedio))"
      ]
    },
    {
      "cell_type": "markdown",
      "metadata": {
        "id": "AQ7bPc8iLnCO"
      },
      "source": [
        "### Q1.10 The average grade of students with absence ('Y'):"
      ]
    },
    {
      "cell_type": "code",
      "execution_count": null,
      "metadata": {
        "colab": {
          "base_uri": "https://localhost:8080/"
        },
        "id": "GANM8RWELnCO",
        "outputId": "8d6bb794-7810-4bc8-9b38-f836ed20cd54"
      },
      "outputs": [
        {
          "output_type": "stream",
          "name": "stdout",
          "text": [
            "La nota promedio en estudiandtes con ausencia = 'Y' es: 3.0\n"
          ]
        }
      ],
      "source": [
        "notaPromedioY =round(df[df['Absence'] == 'Y']['Grade'].mean(),2)\n",
        "print(\"La nota promedio en estudiandtes con ausencia = 'Y' es: \" + str(notaPromedioY))"
      ]
    },
    {
      "cell_type": "markdown",
      "metadata": {
        "id": "wxyrjklxLnCO"
      },
      "source": [
        "### Q1.11 Average height of the students with blood type 'A' or 'AB':\t"
      ]
    },
    {
      "cell_type": "code",
      "execution_count": null,
      "metadata": {
        "colab": {
          "base_uri": "https://localhost:8080/"
        },
        "id": "TwqJ0TPWLnCO",
        "outputId": "46e97377-65c9-48a2-ccc6-36f857782b3a"
      },
      "outputs": [
        {
          "output_type": "stream",
          "name": "stdout",
          "text": [
            "La altura promedio de estudiantes con tipo de sangre A o AB es: 172.64\n"
          ]
        }
      ],
      "source": [
        "alturaPromedioAoAB = round(df[(df['Bloodtype'] == 'A') | (df['Bloodtype'] == 'AB')]['Height'].mean(),2)\n",
        "print( \"La altura promedio de estudiantes con tipo de sangre A o AB es: \" + str(alturaPromedioAoAB))"
      ]
    },
    {
      "cell_type": "markdown",
      "metadata": {
        "id": "MSoJdo3fLnCO"
      },
      "source": [
        "### Q1.12 Average height of the male students with blood type 'A' or 'AB':"
      ]
    },
    {
      "cell_type": "code",
      "execution_count": null,
      "metadata": {
        "colab": {
          "base_uri": "https://localhost:8080/"
        },
        "id": "e77ZetQ8LnCO",
        "outputId": "92e5a0d2-48af-4d59-f636-447f8dd36145"
      },
      "outputs": [
        {
          "output_type": "stream",
          "name": "stdout",
          "text": [
            "La altura promedio de estudiantes hombres con tipo A o AB es: 173.38\n"
          ]
        }
      ],
      "source": [
        "alturaPromedioMAoAB = round(df[(df['Gender'] == 'M')&((df['Bloodtype'] == 'A') | (df['Bloodtype'] == 'AB'))]['Height'].mean(),2)\n",
        "print(\"La altura promedio de estudiantes hombres con tipo A o AB es: \" + str(alturaPromedioMAoAB))"
      ]
    },
    {
      "cell_type": "markdown",
      "metadata": {
        "id": "OlGUP-jmLnCO"
      },
      "source": [
        "### Q1.13 Average age of the students with absence ('Y') whose grade is equal or larger than 3:"
      ]
    },
    {
      "cell_type": "code",
      "execution_count": null,
      "metadata": {
        "colab": {
          "base_uri": "https://localhost:8080/"
        },
        "id": "ZLW7S4NMLnCO",
        "outputId": "d056a32d-c6f2-47ad-c8db-5f60ee636284"
      },
      "outputs": [
        {
          "output_type": "stream",
          "name": "stdout",
          "text": [
            "La edad promedio de los estudiantes con ausencia = 'Y' cuyas calificaciones sean >=3 es : 23.67\n"
          ]
        }
      ],
      "source": [
        "edadPromedioY3= round(df[(df['Absence'] == 'Y') & (df['Grade'] >= 3)]['Age'].mean(),2)\n",
        "print(\"La edad promedio de los estudiantes con ausencia = 'Y' cuyas calificaciones sean >=3 es : \" + str(edadPromedioY3))"
      ]
    },
    {
      "cell_type": "markdown",
      "metadata": {
        "id": "N60GpcywLnCO"
      },
      "source": [
        "## Q2.\tAnswer the following questions using Pandas library."
      ]
    },
    {
      "cell_type": "code",
      "execution_count": null,
      "metadata": {
        "colab": {
          "base_uri": "https://localhost:8080/",
          "height": 363
        },
        "id": "bL5iB55QLnCO",
        "outputId": "90b994be-fa9b-4165-a262-94515c6bd7ce"
      },
      "outputs": [
        {
          "output_type": "execute_result",
          "data": {
            "text/plain": [
              "   Province Code  City Code  Population  Households  Person's Household  \\\n",
              "0            109       1001    10078850     4197478                2.40   \n",
              "1            109       1188      155695       72882                2.14   \n",
              "2            109       1189      126817       59614                2.13   \n",
              "3            109       1158      235186      108138                2.17   \n",
              "4            109       1105      298145      126915                2.35   \n",
              "5            109       1032      362197      158769                2.28   \n",
              "6            109       1065      362604      160110                2.26   \n",
              "7            109       1190      417976      177077                2.36   \n",
              "8            109       1106      464176      192670                2.41   \n",
              "9            109       1006      333523      141325                2.36   \n",
              "\n",
              "   Gender Ratio  \n",
              "0          0.97  \n",
              "1          0.98  \n",
              "2          1.00  \n",
              "3          0.94  \n",
              "4          0.99  \n",
              "5          0.97  \n",
              "6          1.01  \n",
              "7          1.00  \n",
              "8          0.96  \n",
              "9          0.97  "
            ],
            "text/html": [
              "\n",
              "  <div id=\"df-c5164251-eb98-4bdc-8a8e-18a28aef67fe\">\n",
              "    <div class=\"colab-df-container\">\n",
              "      <div>\n",
              "<style scoped>\n",
              "    .dataframe tbody tr th:only-of-type {\n",
              "        vertical-align: middle;\n",
              "    }\n",
              "\n",
              "    .dataframe tbody tr th {\n",
              "        vertical-align: top;\n",
              "    }\n",
              "\n",
              "    .dataframe thead th {\n",
              "        text-align: right;\n",
              "    }\n",
              "</style>\n",
              "<table border=\"1\" class=\"dataframe\">\n",
              "  <thead>\n",
              "    <tr style=\"text-align: right;\">\n",
              "      <th></th>\n",
              "      <th>Province Code</th>\n",
              "      <th>City Code</th>\n",
              "      <th>Population</th>\n",
              "      <th>Households</th>\n",
              "      <th>Person's Household</th>\n",
              "      <th>Gender Ratio</th>\n",
              "    </tr>\n",
              "  </thead>\n",
              "  <tbody>\n",
              "    <tr>\n",
              "      <th>0</th>\n",
              "      <td>109</td>\n",
              "      <td>1001</td>\n",
              "      <td>10078850</td>\n",
              "      <td>4197478</td>\n",
              "      <td>2.40</td>\n",
              "      <td>0.97</td>\n",
              "    </tr>\n",
              "    <tr>\n",
              "      <th>1</th>\n",
              "      <td>109</td>\n",
              "      <td>1188</td>\n",
              "      <td>155695</td>\n",
              "      <td>72882</td>\n",
              "      <td>2.14</td>\n",
              "      <td>0.98</td>\n",
              "    </tr>\n",
              "    <tr>\n",
              "      <th>2</th>\n",
              "      <td>109</td>\n",
              "      <td>1189</td>\n",
              "      <td>126817</td>\n",
              "      <td>59614</td>\n",
              "      <td>2.13</td>\n",
              "      <td>1.00</td>\n",
              "    </tr>\n",
              "    <tr>\n",
              "      <th>3</th>\n",
              "      <td>109</td>\n",
              "      <td>1158</td>\n",
              "      <td>235186</td>\n",
              "      <td>108138</td>\n",
              "      <td>2.17</td>\n",
              "      <td>0.94</td>\n",
              "    </tr>\n",
              "    <tr>\n",
              "      <th>4</th>\n",
              "      <td>109</td>\n",
              "      <td>1105</td>\n",
              "      <td>298145</td>\n",
              "      <td>126915</td>\n",
              "      <td>2.35</td>\n",
              "      <td>0.99</td>\n",
              "    </tr>\n",
              "    <tr>\n",
              "      <th>5</th>\n",
              "      <td>109</td>\n",
              "      <td>1032</td>\n",
              "      <td>362197</td>\n",
              "      <td>158769</td>\n",
              "      <td>2.28</td>\n",
              "      <td>0.97</td>\n",
              "    </tr>\n",
              "    <tr>\n",
              "      <th>6</th>\n",
              "      <td>109</td>\n",
              "      <td>1065</td>\n",
              "      <td>362604</td>\n",
              "      <td>160110</td>\n",
              "      <td>2.26</td>\n",
              "      <td>1.01</td>\n",
              "    </tr>\n",
              "    <tr>\n",
              "      <th>7</th>\n",
              "      <td>109</td>\n",
              "      <td>1190</td>\n",
              "      <td>417976</td>\n",
              "      <td>177077</td>\n",
              "      <td>2.36</td>\n",
              "      <td>1.00</td>\n",
              "    </tr>\n",
              "    <tr>\n",
              "      <th>8</th>\n",
              "      <td>109</td>\n",
              "      <td>1106</td>\n",
              "      <td>464176</td>\n",
              "      <td>192670</td>\n",
              "      <td>2.41</td>\n",
              "      <td>0.96</td>\n",
              "    </tr>\n",
              "    <tr>\n",
              "      <th>9</th>\n",
              "      <td>109</td>\n",
              "      <td>1006</td>\n",
              "      <td>333523</td>\n",
              "      <td>141325</td>\n",
              "      <td>2.36</td>\n",
              "      <td>0.97</td>\n",
              "    </tr>\n",
              "  </tbody>\n",
              "</table>\n",
              "</div>\n",
              "      <button class=\"colab-df-convert\" onclick=\"convertToInteractive('df-c5164251-eb98-4bdc-8a8e-18a28aef67fe')\"\n",
              "              title=\"Convert this dataframe to an interactive table.\"\n",
              "              style=\"display:none;\">\n",
              "        \n",
              "  <svg xmlns=\"http://www.w3.org/2000/svg\" height=\"24px\"viewBox=\"0 0 24 24\"\n",
              "       width=\"24px\">\n",
              "    <path d=\"M0 0h24v24H0V0z\" fill=\"none\"/>\n",
              "    <path d=\"M18.56 5.44l.94 2.06.94-2.06 2.06-.94-2.06-.94-.94-2.06-.94 2.06-2.06.94zm-11 1L8.5 8.5l.94-2.06 2.06-.94-2.06-.94L8.5 2.5l-.94 2.06-2.06.94zm10 10l.94 2.06.94-2.06 2.06-.94-2.06-.94-.94-2.06-.94 2.06-2.06.94z\"/><path d=\"M17.41 7.96l-1.37-1.37c-.4-.4-.92-.59-1.43-.59-.52 0-1.04.2-1.43.59L10.3 9.45l-7.72 7.72c-.78.78-.78 2.05 0 2.83L4 21.41c.39.39.9.59 1.41.59.51 0 1.02-.2 1.41-.59l7.78-7.78 2.81-2.81c.8-.78.8-2.07 0-2.86zM5.41 20L4 18.59l7.72-7.72 1.47 1.35L5.41 20z\"/>\n",
              "  </svg>\n",
              "      </button>\n",
              "      \n",
              "  <style>\n",
              "    .colab-df-container {\n",
              "      display:flex;\n",
              "      flex-wrap:wrap;\n",
              "      gap: 12px;\n",
              "    }\n",
              "\n",
              "    .colab-df-convert {\n",
              "      background-color: #E8F0FE;\n",
              "      border: none;\n",
              "      border-radius: 50%;\n",
              "      cursor: pointer;\n",
              "      display: none;\n",
              "      fill: #1967D2;\n",
              "      height: 32px;\n",
              "      padding: 0 0 0 0;\n",
              "      width: 32px;\n",
              "    }\n",
              "\n",
              "    .colab-df-convert:hover {\n",
              "      background-color: #E2EBFA;\n",
              "      box-shadow: 0px 1px 2px rgba(60, 64, 67, 0.3), 0px 1px 3px 1px rgba(60, 64, 67, 0.15);\n",
              "      fill: #174EA6;\n",
              "    }\n",
              "\n",
              "    [theme=dark] .colab-df-convert {\n",
              "      background-color: #3B4455;\n",
              "      fill: #D2E3FC;\n",
              "    }\n",
              "\n",
              "    [theme=dark] .colab-df-convert:hover {\n",
              "      background-color: #434B5C;\n",
              "      box-shadow: 0px 1px 3px 1px rgba(0, 0, 0, 0.15);\n",
              "      filter: drop-shadow(0px 1px 2px rgba(0, 0, 0, 0.3));\n",
              "      fill: #FFFFFF;\n",
              "    }\n",
              "  </style>\n",
              "\n",
              "      <script>\n",
              "        const buttonEl =\n",
              "          document.querySelector('#df-c5164251-eb98-4bdc-8a8e-18a28aef67fe button.colab-df-convert');\n",
              "        buttonEl.style.display =\n",
              "          google.colab.kernel.accessAllowed ? 'block' : 'none';\n",
              "\n",
              "        async function convertToInteractive(key) {\n",
              "          const element = document.querySelector('#df-c5164251-eb98-4bdc-8a8e-18a28aef67fe');\n",
              "          const dataTable =\n",
              "            await google.colab.kernel.invokeFunction('convertToInteractive',\n",
              "                                                     [key], {});\n",
              "          if (!dataTable) return;\n",
              "\n",
              "          const docLinkHtml = 'Like what you see? Visit the ' +\n",
              "            '<a target=\"_blank\" href=https://colab.research.google.com/notebooks/data_table.ipynb>data table notebook</a>'\n",
              "            + ' to learn more about interactive tables.';\n",
              "          element.innerHTML = '';\n",
              "          dataTable['output_type'] = 'display_data';\n",
              "          await google.colab.output.renderOutput(dataTable, element);\n",
              "          const docLink = document.createElement('div');\n",
              "          docLink.innerHTML = docLinkHtml;\n",
              "          element.appendChild(docLink);\n",
              "        }\n",
              "      </script>\n",
              "    </div>\n",
              "  </div>\n",
              "  "
            ]
          },
          "metadata": {},
          "execution_count": 124
        }
      ],
      "source": [
        "import pandas as pd\n",
        "import numpy as np\n",
        "import os\n",
        "\n",
        "#Read in the data.\n",
        "# Go to the directory where the data file is located. \n",
        "# os.chdir(r'~~')                # Please, replace the path with your own.\n",
        "df = pd.read_csv('data_census.csv', header='infer', thousands=',')\n",
        "df.shape\n",
        "df.head(10) "
      ]
    },
    {
      "cell_type": "markdown",
      "metadata": {
        "id": "cU0V_KZpLnCO"
      },
      "source": [
        "### Q2.1\tTotal population of ProvinceCode equal to 115 and 116:"
      ]
    },
    {
      "cell_type": "code",
      "execution_count": null,
      "metadata": {
        "colab": {
          "base_uri": "https://localhost:8080/"
        },
        "id": "LtFxp_q1LnCO",
        "outputId": "4a7d7c4b-3971-4b74-87f3-60388f8f6e6a"
      },
      "outputs": [
        {
          "output_type": "stream",
          "name": "stdout",
          "text": [
            "La suma de todas las poblaciones de las provincias con codigo 115 y 116 es: 5970327\n"
          ]
        }
      ],
      "source": [
        "totalPopulationS = df[(df['Province Code']==115) | (df ['Province Code'] == 116)]['Population'].sum()\n",
        "print(\"La suma de todas las poblaciones de las provincias con codigo 115 y 116 es: \"+ str(totalPopulationS))"
      ]
    },
    {
      "cell_type": "markdown",
      "metadata": {
        "id": "SKwcEauFLnCO"
      },
      "source": [
        "### Q2.2\tAverage population of the cities where there are more males (GenderRatio >1)"
      ]
    },
    {
      "cell_type": "code",
      "execution_count": null,
      "metadata": {
        "colab": {
          "base_uri": "https://localhost:8080/"
        },
        "id": "IKsk4D7XLnCO",
        "outputId": "68c0950b-be8e-4b15-eab7-9332c004d9c5"
      },
      "outputs": [
        {
          "output_type": "stream",
          "name": "stdout",
          "text": [
            "Poblacion en promedio con las ciudades que tienen más hombres:  419221.21\n"
          ]
        }
      ],
      "source": [
        "poblacionPromedioCM = round(df[df['Gender Ratio'] > 1]['Population'].mean(),2)\n",
        "print(\"Poblacion en promedio con las ciudades que tienen más hombres:  \" + str(poblacionPromedioCM))"
      ]
    },
    {
      "cell_type": "markdown",
      "metadata": {
        "id": "8GjpNrAGLnCP"
      },
      "source": [
        "### Q2.3\tPlaces with more males (GenderRatio >1) and less than 2 persons per household:"
      ]
    },
    {
      "cell_type": "code",
      "execution_count": null,
      "metadata": {
        "colab": {
          "base_uri": "https://localhost:8080/",
          "height": 441
        },
        "id": "Vm5OGNmLLnCP",
        "outputId": "8aa92f93-1cba-4bda-82b1-1430d6f85f55"
      },
      "outputs": [
        {
          "output_type": "stream",
          "name": "stdout",
          "text": [
            "Lista de filas que cumplen que tienen mas hombres y menos de 2 personas por domicilio: \n"
          ]
        },
        {
          "output_type": "execute_result",
          "data": {
            "text/plain": [
              "     Province Code  City Code  Population  Households  Person's Household  \\\n",
              "0              109       1001    10078850     4197478                2.40   \n",
              "1              109       1188      155695       72882                2.14   \n",
              "2              109       1189      126817       59614                2.13   \n",
              "3              109       1158      235186      108138                2.17   \n",
              "4              109       1105      298145      126915                2.35   \n",
              "..             ...        ...         ...         ...                 ...   \n",
              "276            103       1011       63069       27724                2.27   \n",
              "277            103       1233       48856       24193                2.02   \n",
              "278            115       1001      615250      251478                2.45   \n",
              "279            115       1186      454673      182709                2.49   \n",
              "280            115       1096      160577       68769                2.34   \n",
              "\n",
              "     Gender Ratio  \n",
              "0            0.97  \n",
              "1            0.98  \n",
              "2            1.00  \n",
              "3            0.94  \n",
              "4            0.99  \n",
              "..            ...  \n",
              "276          0.94  \n",
              "277          0.91  \n",
              "278          1.01  \n",
              "279          1.00  \n",
              "280          1.02  \n",
              "\n",
              "[281 rows x 6 columns]"
            ],
            "text/html": [
              "\n",
              "  <div id=\"df-3402ebd2-3a46-4884-92bc-a2da440f84ea\">\n",
              "    <div class=\"colab-df-container\">\n",
              "      <div>\n",
              "<style scoped>\n",
              "    .dataframe tbody tr th:only-of-type {\n",
              "        vertical-align: middle;\n",
              "    }\n",
              "\n",
              "    .dataframe tbody tr th {\n",
              "        vertical-align: top;\n",
              "    }\n",
              "\n",
              "    .dataframe thead th {\n",
              "        text-align: right;\n",
              "    }\n",
              "</style>\n",
              "<table border=\"1\" class=\"dataframe\">\n",
              "  <thead>\n",
              "    <tr style=\"text-align: right;\">\n",
              "      <th></th>\n",
              "      <th>Province Code</th>\n",
              "      <th>City Code</th>\n",
              "      <th>Population</th>\n",
              "      <th>Households</th>\n",
              "      <th>Person's Household</th>\n",
              "      <th>Gender Ratio</th>\n",
              "    </tr>\n",
              "  </thead>\n",
              "  <tbody>\n",
              "    <tr>\n",
              "      <th>0</th>\n",
              "      <td>109</td>\n",
              "      <td>1001</td>\n",
              "      <td>10078850</td>\n",
              "      <td>4197478</td>\n",
              "      <td>2.40</td>\n",
              "      <td>0.97</td>\n",
              "    </tr>\n",
              "    <tr>\n",
              "      <th>1</th>\n",
              "      <td>109</td>\n",
              "      <td>1188</td>\n",
              "      <td>155695</td>\n",
              "      <td>72882</td>\n",
              "      <td>2.14</td>\n",
              "      <td>0.98</td>\n",
              "    </tr>\n",
              "    <tr>\n",
              "      <th>2</th>\n",
              "      <td>109</td>\n",
              "      <td>1189</td>\n",
              "      <td>126817</td>\n",
              "      <td>59614</td>\n",
              "      <td>2.13</td>\n",
              "      <td>1.00</td>\n",
              "    </tr>\n",
              "    <tr>\n",
              "      <th>3</th>\n",
              "      <td>109</td>\n",
              "      <td>1158</td>\n",
              "      <td>235186</td>\n",
              "      <td>108138</td>\n",
              "      <td>2.17</td>\n",
              "      <td>0.94</td>\n",
              "    </tr>\n",
              "    <tr>\n",
              "      <th>4</th>\n",
              "      <td>109</td>\n",
              "      <td>1105</td>\n",
              "      <td>298145</td>\n",
              "      <td>126915</td>\n",
              "      <td>2.35</td>\n",
              "      <td>0.99</td>\n",
              "    </tr>\n",
              "    <tr>\n",
              "      <th>...</th>\n",
              "      <td>...</td>\n",
              "      <td>...</td>\n",
              "      <td>...</td>\n",
              "      <td>...</td>\n",
              "      <td>...</td>\n",
              "      <td>...</td>\n",
              "    </tr>\n",
              "    <tr>\n",
              "      <th>276</th>\n",
              "      <td>103</td>\n",
              "      <td>1011</td>\n",
              "      <td>63069</td>\n",
              "      <td>27724</td>\n",
              "      <td>2.27</td>\n",
              "      <td>0.94</td>\n",
              "    </tr>\n",
              "    <tr>\n",
              "      <th>277</th>\n",
              "      <td>103</td>\n",
              "      <td>1233</td>\n",
              "      <td>48856</td>\n",
              "      <td>24193</td>\n",
              "      <td>2.02</td>\n",
              "      <td>0.91</td>\n",
              "    </tr>\n",
              "    <tr>\n",
              "      <th>278</th>\n",
              "      <td>115</td>\n",
              "      <td>1001</td>\n",
              "      <td>615250</td>\n",
              "      <td>251478</td>\n",
              "      <td>2.45</td>\n",
              "      <td>1.01</td>\n",
              "    </tr>\n",
              "    <tr>\n",
              "      <th>279</th>\n",
              "      <td>115</td>\n",
              "      <td>1186</td>\n",
              "      <td>454673</td>\n",
              "      <td>182709</td>\n",
              "      <td>2.49</td>\n",
              "      <td>1.00</td>\n",
              "    </tr>\n",
              "    <tr>\n",
              "      <th>280</th>\n",
              "      <td>115</td>\n",
              "      <td>1096</td>\n",
              "      <td>160577</td>\n",
              "      <td>68769</td>\n",
              "      <td>2.34</td>\n",
              "      <td>1.02</td>\n",
              "    </tr>\n",
              "  </tbody>\n",
              "</table>\n",
              "<p>281 rows × 6 columns</p>\n",
              "</div>\n",
              "      <button class=\"colab-df-convert\" onclick=\"convertToInteractive('df-3402ebd2-3a46-4884-92bc-a2da440f84ea')\"\n",
              "              title=\"Convert this dataframe to an interactive table.\"\n",
              "              style=\"display:none;\">\n",
              "        \n",
              "  <svg xmlns=\"http://www.w3.org/2000/svg\" height=\"24px\"viewBox=\"0 0 24 24\"\n",
              "       width=\"24px\">\n",
              "    <path d=\"M0 0h24v24H0V0z\" fill=\"none\"/>\n",
              "    <path d=\"M18.56 5.44l.94 2.06.94-2.06 2.06-.94-2.06-.94-.94-2.06-.94 2.06-2.06.94zm-11 1L8.5 8.5l.94-2.06 2.06-.94-2.06-.94L8.5 2.5l-.94 2.06-2.06.94zm10 10l.94 2.06.94-2.06 2.06-.94-2.06-.94-.94-2.06-.94 2.06-2.06.94z\"/><path d=\"M17.41 7.96l-1.37-1.37c-.4-.4-.92-.59-1.43-.59-.52 0-1.04.2-1.43.59L10.3 9.45l-7.72 7.72c-.78.78-.78 2.05 0 2.83L4 21.41c.39.39.9.59 1.41.59.51 0 1.02-.2 1.41-.59l7.78-7.78 2.81-2.81c.8-.78.8-2.07 0-2.86zM5.41 20L4 18.59l7.72-7.72 1.47 1.35L5.41 20z\"/>\n",
              "  </svg>\n",
              "      </button>\n",
              "      \n",
              "  <style>\n",
              "    .colab-df-container {\n",
              "      display:flex;\n",
              "      flex-wrap:wrap;\n",
              "      gap: 12px;\n",
              "    }\n",
              "\n",
              "    .colab-df-convert {\n",
              "      background-color: #E8F0FE;\n",
              "      border: none;\n",
              "      border-radius: 50%;\n",
              "      cursor: pointer;\n",
              "      display: none;\n",
              "      fill: #1967D2;\n",
              "      height: 32px;\n",
              "      padding: 0 0 0 0;\n",
              "      width: 32px;\n",
              "    }\n",
              "\n",
              "    .colab-df-convert:hover {\n",
              "      background-color: #E2EBFA;\n",
              "      box-shadow: 0px 1px 2px rgba(60, 64, 67, 0.3), 0px 1px 3px 1px rgba(60, 64, 67, 0.15);\n",
              "      fill: #174EA6;\n",
              "    }\n",
              "\n",
              "    [theme=dark] .colab-df-convert {\n",
              "      background-color: #3B4455;\n",
              "      fill: #D2E3FC;\n",
              "    }\n",
              "\n",
              "    [theme=dark] .colab-df-convert:hover {\n",
              "      background-color: #434B5C;\n",
              "      box-shadow: 0px 1px 3px 1px rgba(0, 0, 0, 0.15);\n",
              "      filter: drop-shadow(0px 1px 2px rgba(0, 0, 0, 0.3));\n",
              "      fill: #FFFFFF;\n",
              "    }\n",
              "  </style>\n",
              "\n",
              "      <script>\n",
              "        const buttonEl =\n",
              "          document.querySelector('#df-3402ebd2-3a46-4884-92bc-a2da440f84ea button.colab-df-convert');\n",
              "        buttonEl.style.display =\n",
              "          google.colab.kernel.accessAllowed ? 'block' : 'none';\n",
              "\n",
              "        async function convertToInteractive(key) {\n",
              "          const element = document.querySelector('#df-3402ebd2-3a46-4884-92bc-a2da440f84ea');\n",
              "          const dataTable =\n",
              "            await google.colab.kernel.invokeFunction('convertToInteractive',\n",
              "                                                     [key], {});\n",
              "          if (!dataTable) return;\n",
              "\n",
              "          const docLinkHtml = 'Like what you see? Visit the ' +\n",
              "            '<a target=\"_blank\" href=https://colab.research.google.com/notebooks/data_table.ipynb>data table notebook</a>'\n",
              "            + ' to learn more about interactive tables.';\n",
              "          element.innerHTML = '';\n",
              "          dataTable['output_type'] = 'display_data';\n",
              "          await google.colab.output.renderOutput(dataTable, element);\n",
              "          const docLink = document.createElement('div');\n",
              "          docLink.innerHTML = docLinkHtml;\n",
              "          element.appendChild(docLink);\n",
              "        }\n",
              "      </script>\n",
              "    </div>\n",
              "  </div>\n",
              "  "
            ]
          },
          "metadata": {},
          "execution_count": 127
        }
      ],
      "source": [
        "ciudML = df[(df['Gender Ratio']>1) & df[\"Person's Household\"] < 2] \n",
        "print(\"Lista de filas que cumplen que tienen mas hombres y menos de 2 personas por domicilio: \")\n",
        "ciudML"
      ]
    },
    {
      "cell_type": "markdown",
      "metadata": {
        "id": "PfGfLpkvLnCP"
      },
      "source": [
        "### Q2.4\tSort the DataFrame in ascending order of the 'Households'. Show the top 10."
      ]
    },
    {
      "cell_type": "code",
      "execution_count": null,
      "metadata": {
        "colab": {
          "base_uri": "https://localhost:8080/",
          "height": 380
        },
        "id": "aFpOghgdLnCP",
        "outputId": "5cb74cc0-cd18-43f2-b8a5-ed075ec0e9da"
      },
      "outputs": [
        {
          "output_type": "stream",
          "name": "stdout",
          "text": [
            "Tabla ordenada con los 10 primeras filas ordenadas segun Households: \n"
          ]
        },
        {
          "output_type": "execute_result",
          "data": {
            "text/plain": [
              "     Province Code  City Code  Population  Households  Person's Household  \\\n",
              "253            104       1163       10304        5365                1.92   \n",
              "244            104       1147       17984        8769                2.05   \n",
              "200            114       1179       23308       10877                2.14   \n",
              "150            101       1130       24283       11162                2.18   \n",
              "62             112       1155       20825       11172                1.86   \n",
              "199            114       1073       25181       11723                2.15   \n",
              "241            104       1039       24096       12091                1.99   \n",
              "213            113       1034       27115       12465                2.18   \n",
              "198            114       1193       26325       12531                2.10   \n",
              "243            104       1208       26353       13233                1.99   \n",
              "\n",
              "     Gender Ratio  \n",
              "253          1.15  \n",
              "244          0.97  \n",
              "200          0.98  \n",
              "150          1.17  \n",
              "62           1.29  \n",
              "199          0.98  \n",
              "241          1.00  \n",
              "213          0.95  \n",
              "198          1.00  \n",
              "243          0.98  "
            ],
            "text/html": [
              "\n",
              "  <div id=\"df-59fe0340-a600-4ff4-af30-c1b722d469ba\">\n",
              "    <div class=\"colab-df-container\">\n",
              "      <div>\n",
              "<style scoped>\n",
              "    .dataframe tbody tr th:only-of-type {\n",
              "        vertical-align: middle;\n",
              "    }\n",
              "\n",
              "    .dataframe tbody tr th {\n",
              "        vertical-align: top;\n",
              "    }\n",
              "\n",
              "    .dataframe thead th {\n",
              "        text-align: right;\n",
              "    }\n",
              "</style>\n",
              "<table border=\"1\" class=\"dataframe\">\n",
              "  <thead>\n",
              "    <tr style=\"text-align: right;\">\n",
              "      <th></th>\n",
              "      <th>Province Code</th>\n",
              "      <th>City Code</th>\n",
              "      <th>Population</th>\n",
              "      <th>Households</th>\n",
              "      <th>Person's Household</th>\n",
              "      <th>Gender Ratio</th>\n",
              "    </tr>\n",
              "  </thead>\n",
              "  <tbody>\n",
              "    <tr>\n",
              "      <th>253</th>\n",
              "      <td>104</td>\n",
              "      <td>1163</td>\n",
              "      <td>10304</td>\n",
              "      <td>5365</td>\n",
              "      <td>1.92</td>\n",
              "      <td>1.15</td>\n",
              "    </tr>\n",
              "    <tr>\n",
              "      <th>244</th>\n",
              "      <td>104</td>\n",
              "      <td>1147</td>\n",
              "      <td>17984</td>\n",
              "      <td>8769</td>\n",
              "      <td>2.05</td>\n",
              "      <td>0.97</td>\n",
              "    </tr>\n",
              "    <tr>\n",
              "      <th>200</th>\n",
              "      <td>114</td>\n",
              "      <td>1179</td>\n",
              "      <td>23308</td>\n",
              "      <td>10877</td>\n",
              "      <td>2.14</td>\n",
              "      <td>0.98</td>\n",
              "    </tr>\n",
              "    <tr>\n",
              "      <th>150</th>\n",
              "      <td>101</td>\n",
              "      <td>1130</td>\n",
              "      <td>24283</td>\n",
              "      <td>11162</td>\n",
              "      <td>2.18</td>\n",
              "      <td>1.17</td>\n",
              "    </tr>\n",
              "    <tr>\n",
              "      <th>62</th>\n",
              "      <td>112</td>\n",
              "      <td>1155</td>\n",
              "      <td>20825</td>\n",
              "      <td>11172</td>\n",
              "      <td>1.86</td>\n",
              "      <td>1.29</td>\n",
              "    </tr>\n",
              "    <tr>\n",
              "      <th>199</th>\n",
              "      <td>114</td>\n",
              "      <td>1073</td>\n",
              "      <td>25181</td>\n",
              "      <td>11723</td>\n",
              "      <td>2.15</td>\n",
              "      <td>0.98</td>\n",
              "    </tr>\n",
              "    <tr>\n",
              "      <th>241</th>\n",
              "      <td>104</td>\n",
              "      <td>1039</td>\n",
              "      <td>24096</td>\n",
              "      <td>12091</td>\n",
              "      <td>1.99</td>\n",
              "      <td>1.00</td>\n",
              "    </tr>\n",
              "    <tr>\n",
              "      <th>213</th>\n",
              "      <td>113</td>\n",
              "      <td>1034</td>\n",
              "      <td>27115</td>\n",
              "      <td>12465</td>\n",
              "      <td>2.18</td>\n",
              "      <td>0.95</td>\n",
              "    </tr>\n",
              "    <tr>\n",
              "      <th>198</th>\n",
              "      <td>114</td>\n",
              "      <td>1193</td>\n",
              "      <td>26325</td>\n",
              "      <td>12531</td>\n",
              "      <td>2.10</td>\n",
              "      <td>1.00</td>\n",
              "    </tr>\n",
              "    <tr>\n",
              "      <th>243</th>\n",
              "      <td>104</td>\n",
              "      <td>1208</td>\n",
              "      <td>26353</td>\n",
              "      <td>13233</td>\n",
              "      <td>1.99</td>\n",
              "      <td>0.98</td>\n",
              "    </tr>\n",
              "  </tbody>\n",
              "</table>\n",
              "</div>\n",
              "      <button class=\"colab-df-convert\" onclick=\"convertToInteractive('df-59fe0340-a600-4ff4-af30-c1b722d469ba')\"\n",
              "              title=\"Convert this dataframe to an interactive table.\"\n",
              "              style=\"display:none;\">\n",
              "        \n",
              "  <svg xmlns=\"http://www.w3.org/2000/svg\" height=\"24px\"viewBox=\"0 0 24 24\"\n",
              "       width=\"24px\">\n",
              "    <path d=\"M0 0h24v24H0V0z\" fill=\"none\"/>\n",
              "    <path d=\"M18.56 5.44l.94 2.06.94-2.06 2.06-.94-2.06-.94-.94-2.06-.94 2.06-2.06.94zm-11 1L8.5 8.5l.94-2.06 2.06-.94-2.06-.94L8.5 2.5l-.94 2.06-2.06.94zm10 10l.94 2.06.94-2.06 2.06-.94-2.06-.94-.94-2.06-.94 2.06-2.06.94z\"/><path d=\"M17.41 7.96l-1.37-1.37c-.4-.4-.92-.59-1.43-.59-.52 0-1.04.2-1.43.59L10.3 9.45l-7.72 7.72c-.78.78-.78 2.05 0 2.83L4 21.41c.39.39.9.59 1.41.59.51 0 1.02-.2 1.41-.59l7.78-7.78 2.81-2.81c.8-.78.8-2.07 0-2.86zM5.41 20L4 18.59l7.72-7.72 1.47 1.35L5.41 20z\"/>\n",
              "  </svg>\n",
              "      </button>\n",
              "      \n",
              "  <style>\n",
              "    .colab-df-container {\n",
              "      display:flex;\n",
              "      flex-wrap:wrap;\n",
              "      gap: 12px;\n",
              "    }\n",
              "\n",
              "    .colab-df-convert {\n",
              "      background-color: #E8F0FE;\n",
              "      border: none;\n",
              "      border-radius: 50%;\n",
              "      cursor: pointer;\n",
              "      display: none;\n",
              "      fill: #1967D2;\n",
              "      height: 32px;\n",
              "      padding: 0 0 0 0;\n",
              "      width: 32px;\n",
              "    }\n",
              "\n",
              "    .colab-df-convert:hover {\n",
              "      background-color: #E2EBFA;\n",
              "      box-shadow: 0px 1px 2px rgba(60, 64, 67, 0.3), 0px 1px 3px 1px rgba(60, 64, 67, 0.15);\n",
              "      fill: #174EA6;\n",
              "    }\n",
              "\n",
              "    [theme=dark] .colab-df-convert {\n",
              "      background-color: #3B4455;\n",
              "      fill: #D2E3FC;\n",
              "    }\n",
              "\n",
              "    [theme=dark] .colab-df-convert:hover {\n",
              "      background-color: #434B5C;\n",
              "      box-shadow: 0px 1px 3px 1px rgba(0, 0, 0, 0.15);\n",
              "      filter: drop-shadow(0px 1px 2px rgba(0, 0, 0, 0.3));\n",
              "      fill: #FFFFFF;\n",
              "    }\n",
              "  </style>\n",
              "\n",
              "      <script>\n",
              "        const buttonEl =\n",
              "          document.querySelector('#df-59fe0340-a600-4ff4-af30-c1b722d469ba button.colab-df-convert');\n",
              "        buttonEl.style.display =\n",
              "          google.colab.kernel.accessAllowed ? 'block' : 'none';\n",
              "\n",
              "        async function convertToInteractive(key) {\n",
              "          const element = document.querySelector('#df-59fe0340-a600-4ff4-af30-c1b722d469ba');\n",
              "          const dataTable =\n",
              "            await google.colab.kernel.invokeFunction('convertToInteractive',\n",
              "                                                     [key], {});\n",
              "          if (!dataTable) return;\n",
              "\n",
              "          const docLinkHtml = 'Like what you see? Visit the ' +\n",
              "            '<a target=\"_blank\" href=https://colab.research.google.com/notebooks/data_table.ipynb>data table notebook</a>'\n",
              "            + ' to learn more about interactive tables.';\n",
              "          element.innerHTML = '';\n",
              "          dataTable['output_type'] = 'display_data';\n",
              "          await google.colab.output.renderOutput(dataTable, element);\n",
              "          const docLink = document.createElement('div');\n",
              "          docLink.innerHTML = docLinkHtml;\n",
              "          element.appendChild(docLink);\n",
              "        }\n",
              "      </script>\n",
              "    </div>\n",
              "  </div>\n",
              "  "
            ]
          },
          "metadata": {},
          "execution_count": 62
        }
      ],
      "source": [
        "print(\"Tabla ordenada con los 10 primeras filas ordenadas segun Households: \")\n",
        "df.sort_values(by=['Households'], ascending=True).head(10)"
      ]
    },
    {
      "cell_type": "markdown",
      "metadata": {
        "id": "3JnHticcLnCP"
      },
      "source": [
        "## Q3.\tAnswer the following questions."
      ]
    },
    {
      "cell_type": "code",
      "execution_count": null,
      "metadata": {
        "colab": {
          "base_uri": "https://localhost:8080/",
          "height": 206
        },
        "id": "2oAbayWZLnCP",
        "outputId": "a831faf2-17ac-4b23-d008-9d2446c08944"
      },
      "outputs": [
        {
          "output_type": "execute_result",
          "data": {
            "text/plain": [
              "        Date   Region     Item  Unit Price  Units\n",
              "0  04-Jul-14     East  Pen Set        4.99     62\n",
              "1  12-Jul-14     East   Binder        1.99     29\n",
              "2  21-Jul-14  Central  Pen Set       12.49     55\n",
              "3  29-Jul-14     East   Binder       19.99     81\n",
              "4  07-Aug-14  Central  Pen Set       23.95     42"
            ],
            "text/html": [
              "\n",
              "  <div id=\"df-5df227fd-9536-49c0-9a34-0542acaeca65\">\n",
              "    <div class=\"colab-df-container\">\n",
              "      <div>\n",
              "<style scoped>\n",
              "    .dataframe tbody tr th:only-of-type {\n",
              "        vertical-align: middle;\n",
              "    }\n",
              "\n",
              "    .dataframe tbody tr th {\n",
              "        vertical-align: top;\n",
              "    }\n",
              "\n",
              "    .dataframe thead th {\n",
              "        text-align: right;\n",
              "    }\n",
              "</style>\n",
              "<table border=\"1\" class=\"dataframe\">\n",
              "  <thead>\n",
              "    <tr style=\"text-align: right;\">\n",
              "      <th></th>\n",
              "      <th>Date</th>\n",
              "      <th>Region</th>\n",
              "      <th>Item</th>\n",
              "      <th>Unit Price</th>\n",
              "      <th>Units</th>\n",
              "    </tr>\n",
              "  </thead>\n",
              "  <tbody>\n",
              "    <tr>\n",
              "      <th>0</th>\n",
              "      <td>04-Jul-14</td>\n",
              "      <td>East</td>\n",
              "      <td>Pen Set</td>\n",
              "      <td>4.99</td>\n",
              "      <td>62</td>\n",
              "    </tr>\n",
              "    <tr>\n",
              "      <th>1</th>\n",
              "      <td>12-Jul-14</td>\n",
              "      <td>East</td>\n",
              "      <td>Binder</td>\n",
              "      <td>1.99</td>\n",
              "      <td>29</td>\n",
              "    </tr>\n",
              "    <tr>\n",
              "      <th>2</th>\n",
              "      <td>21-Jul-14</td>\n",
              "      <td>Central</td>\n",
              "      <td>Pen Set</td>\n",
              "      <td>12.49</td>\n",
              "      <td>55</td>\n",
              "    </tr>\n",
              "    <tr>\n",
              "      <th>3</th>\n",
              "      <td>29-Jul-14</td>\n",
              "      <td>East</td>\n",
              "      <td>Binder</td>\n",
              "      <td>19.99</td>\n",
              "      <td>81</td>\n",
              "    </tr>\n",
              "    <tr>\n",
              "      <th>4</th>\n",
              "      <td>07-Aug-14</td>\n",
              "      <td>Central</td>\n",
              "      <td>Pen Set</td>\n",
              "      <td>23.95</td>\n",
              "      <td>42</td>\n",
              "    </tr>\n",
              "  </tbody>\n",
              "</table>\n",
              "</div>\n",
              "      <button class=\"colab-df-convert\" onclick=\"convertToInteractive('df-5df227fd-9536-49c0-9a34-0542acaeca65')\"\n",
              "              title=\"Convert this dataframe to an interactive table.\"\n",
              "              style=\"display:none;\">\n",
              "        \n",
              "  <svg xmlns=\"http://www.w3.org/2000/svg\" height=\"24px\"viewBox=\"0 0 24 24\"\n",
              "       width=\"24px\">\n",
              "    <path d=\"M0 0h24v24H0V0z\" fill=\"none\"/>\n",
              "    <path d=\"M18.56 5.44l.94 2.06.94-2.06 2.06-.94-2.06-.94-.94-2.06-.94 2.06-2.06.94zm-11 1L8.5 8.5l.94-2.06 2.06-.94-2.06-.94L8.5 2.5l-.94 2.06-2.06.94zm10 10l.94 2.06.94-2.06 2.06-.94-2.06-.94-.94-2.06-.94 2.06-2.06.94z\"/><path d=\"M17.41 7.96l-1.37-1.37c-.4-.4-.92-.59-1.43-.59-.52 0-1.04.2-1.43.59L10.3 9.45l-7.72 7.72c-.78.78-.78 2.05 0 2.83L4 21.41c.39.39.9.59 1.41.59.51 0 1.02-.2 1.41-.59l7.78-7.78 2.81-2.81c.8-.78.8-2.07 0-2.86zM5.41 20L4 18.59l7.72-7.72 1.47 1.35L5.41 20z\"/>\n",
              "  </svg>\n",
              "      </button>\n",
              "      \n",
              "  <style>\n",
              "    .colab-df-container {\n",
              "      display:flex;\n",
              "      flex-wrap:wrap;\n",
              "      gap: 12px;\n",
              "    }\n",
              "\n",
              "    .colab-df-convert {\n",
              "      background-color: #E8F0FE;\n",
              "      border: none;\n",
              "      border-radius: 50%;\n",
              "      cursor: pointer;\n",
              "      display: none;\n",
              "      fill: #1967D2;\n",
              "      height: 32px;\n",
              "      padding: 0 0 0 0;\n",
              "      width: 32px;\n",
              "    }\n",
              "\n",
              "    .colab-df-convert:hover {\n",
              "      background-color: #E2EBFA;\n",
              "      box-shadow: 0px 1px 2px rgba(60, 64, 67, 0.3), 0px 1px 3px 1px rgba(60, 64, 67, 0.15);\n",
              "      fill: #174EA6;\n",
              "    }\n",
              "\n",
              "    [theme=dark] .colab-df-convert {\n",
              "      background-color: #3B4455;\n",
              "      fill: #D2E3FC;\n",
              "    }\n",
              "\n",
              "    [theme=dark] .colab-df-convert:hover {\n",
              "      background-color: #434B5C;\n",
              "      box-shadow: 0px 1px 3px 1px rgba(0, 0, 0, 0.15);\n",
              "      filter: drop-shadow(0px 1px 2px rgba(0, 0, 0, 0.3));\n",
              "      fill: #FFFFFF;\n",
              "    }\n",
              "  </style>\n",
              "\n",
              "      <script>\n",
              "        const buttonEl =\n",
              "          document.querySelector('#df-5df227fd-9536-49c0-9a34-0542acaeca65 button.colab-df-convert');\n",
              "        buttonEl.style.display =\n",
              "          google.colab.kernel.accessAllowed ? 'block' : 'none';\n",
              "\n",
              "        async function convertToInteractive(key) {\n",
              "          const element = document.querySelector('#df-5df227fd-9536-49c0-9a34-0542acaeca65');\n",
              "          const dataTable =\n",
              "            await google.colab.kernel.invokeFunction('convertToInteractive',\n",
              "                                                     [key], {});\n",
              "          if (!dataTable) return;\n",
              "\n",
              "          const docLinkHtml = 'Like what you see? Visit the ' +\n",
              "            '<a target=\"_blank\" href=https://colab.research.google.com/notebooks/data_table.ipynb>data table notebook</a>'\n",
              "            + ' to learn more about interactive tables.';\n",
              "          element.innerHTML = '';\n",
              "          dataTable['output_type'] = 'display_data';\n",
              "          await google.colab.output.renderOutput(dataTable, element);\n",
              "          const docLink = document.createElement('div');\n",
              "          docLink.innerHTML = docLinkHtml;\n",
              "          element.appendChild(docLink);\n",
              "        }\n",
              "      </script>\n",
              "    </div>\n",
              "  </div>\n",
              "  "
            ]
          },
          "metadata": {},
          "execution_count": 128
        }
      ],
      "source": [
        "import pandas as pd\n",
        "import numpy as np\n",
        "import os\n",
        "\n",
        "#Read in the data.\n",
        "# Go to the directory where the data file is located. \n",
        "# os.chdir(r'~~')                # Please, replace the path with your own.\n",
        "df = pd.read_csv('data_sales.csv', header='infer')\n",
        "df.shape\n",
        "df.head(5)"
      ]
    },
    {
      "cell_type": "markdown",
      "metadata": {
        "id": "L_fNEdmCLnCP"
      },
      "source": [
        "### Q3.1\tAppend a new variable $𝐴𝑚𝑜𝑢𝑛𝑡=𝑈𝑛𝑖𝑡𝑃𝑟𝑖𝑐×𝑈𝑛𝑖𝑡𝑠$."
      ]
    },
    {
      "cell_type": "code",
      "execution_count": null,
      "metadata": {
        "colab": {
          "base_uri": "https://localhost:8080/",
          "height": 380
        },
        "id": "NN-NTZ9xLnCP",
        "outputId": "76e54bed-1d74-4837-a75b-9f1a11903c26"
      },
      "outputs": [
        {
          "output_type": "stream",
          "name": "stdout",
          "text": [
            "Agregamos la columna Amount a la tabla: \n"
          ]
        },
        {
          "output_type": "execute_result",
          "data": {
            "text/plain": [
              "        Date   Region     Item  Unit Price  Units   Amount\n",
              "0  04-Jul-14     East  Pen Set        4.99     62   309.38\n",
              "1  12-Jul-14     East   Binder        1.99     29    57.71\n",
              "2  21-Jul-14  Central  Pen Set       12.49     55   686.95\n",
              "3  29-Jul-14     East   Binder       19.99     81  1619.19\n",
              "4  07-Aug-14  Central  Pen Set       23.95     42  1005.90\n",
              "5  15-Aug-14     East   Pencil        4.99     35   174.65\n",
              "6  24-Aug-14     West     Desk      275.00      3   825.00\n",
              "7  01-Sep-14  Central     Desk      125.00      2   250.00\n",
              "8  10-Sep-14  Central   Pencil        1.29      7     9.03\n",
              "9  18-Sep-14     East  Pen Set       15.99     16   255.84"
            ],
            "text/html": [
              "\n",
              "  <div id=\"df-033f3bd0-782f-490e-8c6b-7d75b51c1210\">\n",
              "    <div class=\"colab-df-container\">\n",
              "      <div>\n",
              "<style scoped>\n",
              "    .dataframe tbody tr th:only-of-type {\n",
              "        vertical-align: middle;\n",
              "    }\n",
              "\n",
              "    .dataframe tbody tr th {\n",
              "        vertical-align: top;\n",
              "    }\n",
              "\n",
              "    .dataframe thead th {\n",
              "        text-align: right;\n",
              "    }\n",
              "</style>\n",
              "<table border=\"1\" class=\"dataframe\">\n",
              "  <thead>\n",
              "    <tr style=\"text-align: right;\">\n",
              "      <th></th>\n",
              "      <th>Date</th>\n",
              "      <th>Region</th>\n",
              "      <th>Item</th>\n",
              "      <th>Unit Price</th>\n",
              "      <th>Units</th>\n",
              "      <th>Amount</th>\n",
              "    </tr>\n",
              "  </thead>\n",
              "  <tbody>\n",
              "    <tr>\n",
              "      <th>0</th>\n",
              "      <td>04-Jul-14</td>\n",
              "      <td>East</td>\n",
              "      <td>Pen Set</td>\n",
              "      <td>4.99</td>\n",
              "      <td>62</td>\n",
              "      <td>309.38</td>\n",
              "    </tr>\n",
              "    <tr>\n",
              "      <th>1</th>\n",
              "      <td>12-Jul-14</td>\n",
              "      <td>East</td>\n",
              "      <td>Binder</td>\n",
              "      <td>1.99</td>\n",
              "      <td>29</td>\n",
              "      <td>57.71</td>\n",
              "    </tr>\n",
              "    <tr>\n",
              "      <th>2</th>\n",
              "      <td>21-Jul-14</td>\n",
              "      <td>Central</td>\n",
              "      <td>Pen Set</td>\n",
              "      <td>12.49</td>\n",
              "      <td>55</td>\n",
              "      <td>686.95</td>\n",
              "    </tr>\n",
              "    <tr>\n",
              "      <th>3</th>\n",
              "      <td>29-Jul-14</td>\n",
              "      <td>East</td>\n",
              "      <td>Binder</td>\n",
              "      <td>19.99</td>\n",
              "      <td>81</td>\n",
              "      <td>1619.19</td>\n",
              "    </tr>\n",
              "    <tr>\n",
              "      <th>4</th>\n",
              "      <td>07-Aug-14</td>\n",
              "      <td>Central</td>\n",
              "      <td>Pen Set</td>\n",
              "      <td>23.95</td>\n",
              "      <td>42</td>\n",
              "      <td>1005.90</td>\n",
              "    </tr>\n",
              "    <tr>\n",
              "      <th>5</th>\n",
              "      <td>15-Aug-14</td>\n",
              "      <td>East</td>\n",
              "      <td>Pencil</td>\n",
              "      <td>4.99</td>\n",
              "      <td>35</td>\n",
              "      <td>174.65</td>\n",
              "    </tr>\n",
              "    <tr>\n",
              "      <th>6</th>\n",
              "      <td>24-Aug-14</td>\n",
              "      <td>West</td>\n",
              "      <td>Desk</td>\n",
              "      <td>275.00</td>\n",
              "      <td>3</td>\n",
              "      <td>825.00</td>\n",
              "    </tr>\n",
              "    <tr>\n",
              "      <th>7</th>\n",
              "      <td>01-Sep-14</td>\n",
              "      <td>Central</td>\n",
              "      <td>Desk</td>\n",
              "      <td>125.00</td>\n",
              "      <td>2</td>\n",
              "      <td>250.00</td>\n",
              "    </tr>\n",
              "    <tr>\n",
              "      <th>8</th>\n",
              "      <td>10-Sep-14</td>\n",
              "      <td>Central</td>\n",
              "      <td>Pencil</td>\n",
              "      <td>1.29</td>\n",
              "      <td>7</td>\n",
              "      <td>9.03</td>\n",
              "    </tr>\n",
              "    <tr>\n",
              "      <th>9</th>\n",
              "      <td>18-Sep-14</td>\n",
              "      <td>East</td>\n",
              "      <td>Pen Set</td>\n",
              "      <td>15.99</td>\n",
              "      <td>16</td>\n",
              "      <td>255.84</td>\n",
              "    </tr>\n",
              "  </tbody>\n",
              "</table>\n",
              "</div>\n",
              "      <button class=\"colab-df-convert\" onclick=\"convertToInteractive('df-033f3bd0-782f-490e-8c6b-7d75b51c1210')\"\n",
              "              title=\"Convert this dataframe to an interactive table.\"\n",
              "              style=\"display:none;\">\n",
              "        \n",
              "  <svg xmlns=\"http://www.w3.org/2000/svg\" height=\"24px\"viewBox=\"0 0 24 24\"\n",
              "       width=\"24px\">\n",
              "    <path d=\"M0 0h24v24H0V0z\" fill=\"none\"/>\n",
              "    <path d=\"M18.56 5.44l.94 2.06.94-2.06 2.06-.94-2.06-.94-.94-2.06-.94 2.06-2.06.94zm-11 1L8.5 8.5l.94-2.06 2.06-.94-2.06-.94L8.5 2.5l-.94 2.06-2.06.94zm10 10l.94 2.06.94-2.06 2.06-.94-2.06-.94-.94-2.06-.94 2.06-2.06.94z\"/><path d=\"M17.41 7.96l-1.37-1.37c-.4-.4-.92-.59-1.43-.59-.52 0-1.04.2-1.43.59L10.3 9.45l-7.72 7.72c-.78.78-.78 2.05 0 2.83L4 21.41c.39.39.9.59 1.41.59.51 0 1.02-.2 1.41-.59l7.78-7.78 2.81-2.81c.8-.78.8-2.07 0-2.86zM5.41 20L4 18.59l7.72-7.72 1.47 1.35L5.41 20z\"/>\n",
              "  </svg>\n",
              "      </button>\n",
              "      \n",
              "  <style>\n",
              "    .colab-df-container {\n",
              "      display:flex;\n",
              "      flex-wrap:wrap;\n",
              "      gap: 12px;\n",
              "    }\n",
              "\n",
              "    .colab-df-convert {\n",
              "      background-color: #E8F0FE;\n",
              "      border: none;\n",
              "      border-radius: 50%;\n",
              "      cursor: pointer;\n",
              "      display: none;\n",
              "      fill: #1967D2;\n",
              "      height: 32px;\n",
              "      padding: 0 0 0 0;\n",
              "      width: 32px;\n",
              "    }\n",
              "\n",
              "    .colab-df-convert:hover {\n",
              "      background-color: #E2EBFA;\n",
              "      box-shadow: 0px 1px 2px rgba(60, 64, 67, 0.3), 0px 1px 3px 1px rgba(60, 64, 67, 0.15);\n",
              "      fill: #174EA6;\n",
              "    }\n",
              "\n",
              "    [theme=dark] .colab-df-convert {\n",
              "      background-color: #3B4455;\n",
              "      fill: #D2E3FC;\n",
              "    }\n",
              "\n",
              "    [theme=dark] .colab-df-convert:hover {\n",
              "      background-color: #434B5C;\n",
              "      box-shadow: 0px 1px 3px 1px rgba(0, 0, 0, 0.15);\n",
              "      filter: drop-shadow(0px 1px 2px rgba(0, 0, 0, 0.3));\n",
              "      fill: #FFFFFF;\n",
              "    }\n",
              "  </style>\n",
              "\n",
              "      <script>\n",
              "        const buttonEl =\n",
              "          document.querySelector('#df-033f3bd0-782f-490e-8c6b-7d75b51c1210 button.colab-df-convert');\n",
              "        buttonEl.style.display =\n",
              "          google.colab.kernel.accessAllowed ? 'block' : 'none';\n",
              "\n",
              "        async function convertToInteractive(key) {\n",
              "          const element = document.querySelector('#df-033f3bd0-782f-490e-8c6b-7d75b51c1210');\n",
              "          const dataTable =\n",
              "            await google.colab.kernel.invokeFunction('convertToInteractive',\n",
              "                                                     [key], {});\n",
              "          if (!dataTable) return;\n",
              "\n",
              "          const docLinkHtml = 'Like what you see? Visit the ' +\n",
              "            '<a target=\"_blank\" href=https://colab.research.google.com/notebooks/data_table.ipynb>data table notebook</a>'\n",
              "            + ' to learn more about interactive tables.';\n",
              "          element.innerHTML = '';\n",
              "          dataTable['output_type'] = 'display_data';\n",
              "          await google.colab.output.renderOutput(dataTable, element);\n",
              "          const docLink = document.createElement('div');\n",
              "          docLink.innerHTML = docLinkHtml;\n",
              "          element.appendChild(docLink);\n",
              "        }\n",
              "      </script>\n",
              "    </div>\n",
              "  </div>\n",
              "  "
            ]
          },
          "metadata": {},
          "execution_count": 133
        }
      ],
      "source": [
        "print(\"Agregamos la columna Amount a la tabla: \")\n",
        "df['Amount'] = df['Unit Price'] * df['Units']\n",
        "df.head(10)"
      ]
    },
    {
      "cell_type": "markdown",
      "metadata": {
        "id": "hE9Wsj3jLnCP"
      },
      "source": [
        "### Q3.2\tAverage unit price for each region. Use the groupby() method."
      ]
    },
    {
      "cell_type": "code",
      "execution_count": null,
      "metadata": {
        "colab": {
          "base_uri": "https://localhost:8080/"
        },
        "id": "dWNamuSTLnCP",
        "outputId": "4fd17838-f785-4580-9f4c-e5ddebe66fa1"
      },
      "outputs": [
        {
          "output_type": "stream",
          "name": "stdout",
          "text": [
            "Precio unitario promedio por region: \n"
          ]
        },
        {
          "output_type": "execute_result",
          "data": {
            "text/plain": [
              "Region\n",
              "Central    18.018750\n",
              "East        9.143846\n",
              "West       53.658333\n",
              "Name: Unit Price, dtype: float64"
            ]
          },
          "metadata": {},
          "execution_count": 134
        }
      ],
      "source": [
        "print(\"Precio unitario promedio por region: \")\n",
        "df.groupby(['Region'])['Unit Price'].mean()"
      ]
    },
    {
      "cell_type": "markdown",
      "metadata": {
        "id": "eHc39n5YLnCP"
      },
      "source": [
        "### Q3.3\tAverage unit price for each region. Use the pivot_table() method."
      ]
    },
    {
      "cell_type": "code",
      "execution_count": null,
      "metadata": {
        "colab": {
          "base_uri": "https://localhost:8080/",
          "height": 192
        },
        "id": "G9YXMJtNLnCP",
        "outputId": "0ef04e28-f147-4506-df27-92504439fbf0"
      },
      "outputs": [
        {
          "output_type": "stream",
          "name": "stdout",
          "text": [
            "Precio unitario por region: \n"
          ]
        },
        {
          "output_type": "execute_result",
          "data": {
            "text/plain": [
              "         Unit Price\n",
              "Region             \n",
              "Central   18.018750\n",
              "East       9.143846\n",
              "West      53.658333"
            ],
            "text/html": [
              "\n",
              "  <div id=\"df-43c9bd53-1176-4a15-9f1e-d869c05e45f7\">\n",
              "    <div class=\"colab-df-container\">\n",
              "      <div>\n",
              "<style scoped>\n",
              "    .dataframe tbody tr th:only-of-type {\n",
              "        vertical-align: middle;\n",
              "    }\n",
              "\n",
              "    .dataframe tbody tr th {\n",
              "        vertical-align: top;\n",
              "    }\n",
              "\n",
              "    .dataframe thead th {\n",
              "        text-align: right;\n",
              "    }\n",
              "</style>\n",
              "<table border=\"1\" class=\"dataframe\">\n",
              "  <thead>\n",
              "    <tr style=\"text-align: right;\">\n",
              "      <th></th>\n",
              "      <th>Unit Price</th>\n",
              "    </tr>\n",
              "    <tr>\n",
              "      <th>Region</th>\n",
              "      <th></th>\n",
              "    </tr>\n",
              "  </thead>\n",
              "  <tbody>\n",
              "    <tr>\n",
              "      <th>Central</th>\n",
              "      <td>18.018750</td>\n",
              "    </tr>\n",
              "    <tr>\n",
              "      <th>East</th>\n",
              "      <td>9.143846</td>\n",
              "    </tr>\n",
              "    <tr>\n",
              "      <th>West</th>\n",
              "      <td>53.658333</td>\n",
              "    </tr>\n",
              "  </tbody>\n",
              "</table>\n",
              "</div>\n",
              "      <button class=\"colab-df-convert\" onclick=\"convertToInteractive('df-43c9bd53-1176-4a15-9f1e-d869c05e45f7')\"\n",
              "              title=\"Convert this dataframe to an interactive table.\"\n",
              "              style=\"display:none;\">\n",
              "        \n",
              "  <svg xmlns=\"http://www.w3.org/2000/svg\" height=\"24px\"viewBox=\"0 0 24 24\"\n",
              "       width=\"24px\">\n",
              "    <path d=\"M0 0h24v24H0V0z\" fill=\"none\"/>\n",
              "    <path d=\"M18.56 5.44l.94 2.06.94-2.06 2.06-.94-2.06-.94-.94-2.06-.94 2.06-2.06.94zm-11 1L8.5 8.5l.94-2.06 2.06-.94-2.06-.94L8.5 2.5l-.94 2.06-2.06.94zm10 10l.94 2.06.94-2.06 2.06-.94-2.06-.94-.94-2.06-.94 2.06-2.06.94z\"/><path d=\"M17.41 7.96l-1.37-1.37c-.4-.4-.92-.59-1.43-.59-.52 0-1.04.2-1.43.59L10.3 9.45l-7.72 7.72c-.78.78-.78 2.05 0 2.83L4 21.41c.39.39.9.59 1.41.59.51 0 1.02-.2 1.41-.59l7.78-7.78 2.81-2.81c.8-.78.8-2.07 0-2.86zM5.41 20L4 18.59l7.72-7.72 1.47 1.35L5.41 20z\"/>\n",
              "  </svg>\n",
              "      </button>\n",
              "      \n",
              "  <style>\n",
              "    .colab-df-container {\n",
              "      display:flex;\n",
              "      flex-wrap:wrap;\n",
              "      gap: 12px;\n",
              "    }\n",
              "\n",
              "    .colab-df-convert {\n",
              "      background-color: #E8F0FE;\n",
              "      border: none;\n",
              "      border-radius: 50%;\n",
              "      cursor: pointer;\n",
              "      display: none;\n",
              "      fill: #1967D2;\n",
              "      height: 32px;\n",
              "      padding: 0 0 0 0;\n",
              "      width: 32px;\n",
              "    }\n",
              "\n",
              "    .colab-df-convert:hover {\n",
              "      background-color: #E2EBFA;\n",
              "      box-shadow: 0px 1px 2px rgba(60, 64, 67, 0.3), 0px 1px 3px 1px rgba(60, 64, 67, 0.15);\n",
              "      fill: #174EA6;\n",
              "    }\n",
              "\n",
              "    [theme=dark] .colab-df-convert {\n",
              "      background-color: #3B4455;\n",
              "      fill: #D2E3FC;\n",
              "    }\n",
              "\n",
              "    [theme=dark] .colab-df-convert:hover {\n",
              "      background-color: #434B5C;\n",
              "      box-shadow: 0px 1px 3px 1px rgba(0, 0, 0, 0.15);\n",
              "      filter: drop-shadow(0px 1px 2px rgba(0, 0, 0, 0.3));\n",
              "      fill: #FFFFFF;\n",
              "    }\n",
              "  </style>\n",
              "\n",
              "      <script>\n",
              "        const buttonEl =\n",
              "          document.querySelector('#df-43c9bd53-1176-4a15-9f1e-d869c05e45f7 button.colab-df-convert');\n",
              "        buttonEl.style.display =\n",
              "          google.colab.kernel.accessAllowed ? 'block' : 'none';\n",
              "\n",
              "        async function convertToInteractive(key) {\n",
              "          const element = document.querySelector('#df-43c9bd53-1176-4a15-9f1e-d869c05e45f7');\n",
              "          const dataTable =\n",
              "            await google.colab.kernel.invokeFunction('convertToInteractive',\n",
              "                                                     [key], {});\n",
              "          if (!dataTable) return;\n",
              "\n",
              "          const docLinkHtml = 'Like what you see? Visit the ' +\n",
              "            '<a target=\"_blank\" href=https://colab.research.google.com/notebooks/data_table.ipynb>data table notebook</a>'\n",
              "            + ' to learn more about interactive tables.';\n",
              "          element.innerHTML = '';\n",
              "          dataTable['output_type'] = 'display_data';\n",
              "          await google.colab.output.renderOutput(dataTable, element);\n",
              "          const docLink = document.createElement('div');\n",
              "          docLink.innerHTML = docLinkHtml;\n",
              "          element.appendChild(docLink);\n",
              "        }\n",
              "      </script>\n",
              "    </div>\n",
              "  </div>\n",
              "  "
            ]
          },
          "metadata": {},
          "execution_count": 135
        }
      ],
      "source": [
        "print(\"Precio unitario por region: \")\n",
        "pd.pivot_table(df,index=['Region'], aggfunc=np.mean, values=['Unit Price'])"
      ]
    },
    {
      "cell_type": "markdown",
      "metadata": {
        "id": "fucXgFpaLnCP"
      },
      "source": [
        "### Q3.4\tAverage unit price and units for each region in one code sentence. Use the groupby() method."
      ]
    },
    {
      "cell_type": "code",
      "execution_count": null,
      "metadata": {
        "colab": {
          "base_uri": "https://localhost:8080/",
          "height": 247
        },
        "id": "Hw31Mxq7LnCP",
        "outputId": "c30f33db-8cee-4f6a-a962-c19a6c7069c2"
      },
      "outputs": [
        {
          "output_type": "stream",
          "name": "stdout",
          "text": [
            "Precio unitario en promedio en una sentencia de codigo: \n"
          ]
        },
        {
          "output_type": "stream",
          "name": "stderr",
          "text": [
            "<ipython-input-136-2c5a1daa8626>:2: FutureWarning: Indexing with multiple keys (implicitly converted to a tuple of keys) will be deprecated, use a list instead.\n",
            "  df.groupby(['Region'])['Unit Price','Units'].mean()\n"
          ]
        },
        {
          "output_type": "execute_result",
          "data": {
            "text/plain": [
              "         Unit Price      Units\n",
              "Region                        \n",
              "Central   18.018750  49.958333\n",
              "East       9.143846  53.153846\n",
              "West      53.658333  38.500000"
            ],
            "text/html": [
              "\n",
              "  <div id=\"df-7d4422b9-67eb-4ddb-843b-1a3014a96e95\">\n",
              "    <div class=\"colab-df-container\">\n",
              "      <div>\n",
              "<style scoped>\n",
              "    .dataframe tbody tr th:only-of-type {\n",
              "        vertical-align: middle;\n",
              "    }\n",
              "\n",
              "    .dataframe tbody tr th {\n",
              "        vertical-align: top;\n",
              "    }\n",
              "\n",
              "    .dataframe thead th {\n",
              "        text-align: right;\n",
              "    }\n",
              "</style>\n",
              "<table border=\"1\" class=\"dataframe\">\n",
              "  <thead>\n",
              "    <tr style=\"text-align: right;\">\n",
              "      <th></th>\n",
              "      <th>Unit Price</th>\n",
              "      <th>Units</th>\n",
              "    </tr>\n",
              "    <tr>\n",
              "      <th>Region</th>\n",
              "      <th></th>\n",
              "      <th></th>\n",
              "    </tr>\n",
              "  </thead>\n",
              "  <tbody>\n",
              "    <tr>\n",
              "      <th>Central</th>\n",
              "      <td>18.018750</td>\n",
              "      <td>49.958333</td>\n",
              "    </tr>\n",
              "    <tr>\n",
              "      <th>East</th>\n",
              "      <td>9.143846</td>\n",
              "      <td>53.153846</td>\n",
              "    </tr>\n",
              "    <tr>\n",
              "      <th>West</th>\n",
              "      <td>53.658333</td>\n",
              "      <td>38.500000</td>\n",
              "    </tr>\n",
              "  </tbody>\n",
              "</table>\n",
              "</div>\n",
              "      <button class=\"colab-df-convert\" onclick=\"convertToInteractive('df-7d4422b9-67eb-4ddb-843b-1a3014a96e95')\"\n",
              "              title=\"Convert this dataframe to an interactive table.\"\n",
              "              style=\"display:none;\">\n",
              "        \n",
              "  <svg xmlns=\"http://www.w3.org/2000/svg\" height=\"24px\"viewBox=\"0 0 24 24\"\n",
              "       width=\"24px\">\n",
              "    <path d=\"M0 0h24v24H0V0z\" fill=\"none\"/>\n",
              "    <path d=\"M18.56 5.44l.94 2.06.94-2.06 2.06-.94-2.06-.94-.94-2.06-.94 2.06-2.06.94zm-11 1L8.5 8.5l.94-2.06 2.06-.94-2.06-.94L8.5 2.5l-.94 2.06-2.06.94zm10 10l.94 2.06.94-2.06 2.06-.94-2.06-.94-.94-2.06-.94 2.06-2.06.94z\"/><path d=\"M17.41 7.96l-1.37-1.37c-.4-.4-.92-.59-1.43-.59-.52 0-1.04.2-1.43.59L10.3 9.45l-7.72 7.72c-.78.78-.78 2.05 0 2.83L4 21.41c.39.39.9.59 1.41.59.51 0 1.02-.2 1.41-.59l7.78-7.78 2.81-2.81c.8-.78.8-2.07 0-2.86zM5.41 20L4 18.59l7.72-7.72 1.47 1.35L5.41 20z\"/>\n",
              "  </svg>\n",
              "      </button>\n",
              "      \n",
              "  <style>\n",
              "    .colab-df-container {\n",
              "      display:flex;\n",
              "      flex-wrap:wrap;\n",
              "      gap: 12px;\n",
              "    }\n",
              "\n",
              "    .colab-df-convert {\n",
              "      background-color: #E8F0FE;\n",
              "      border: none;\n",
              "      border-radius: 50%;\n",
              "      cursor: pointer;\n",
              "      display: none;\n",
              "      fill: #1967D2;\n",
              "      height: 32px;\n",
              "      padding: 0 0 0 0;\n",
              "      width: 32px;\n",
              "    }\n",
              "\n",
              "    .colab-df-convert:hover {\n",
              "      background-color: #E2EBFA;\n",
              "      box-shadow: 0px 1px 2px rgba(60, 64, 67, 0.3), 0px 1px 3px 1px rgba(60, 64, 67, 0.15);\n",
              "      fill: #174EA6;\n",
              "    }\n",
              "\n",
              "    [theme=dark] .colab-df-convert {\n",
              "      background-color: #3B4455;\n",
              "      fill: #D2E3FC;\n",
              "    }\n",
              "\n",
              "    [theme=dark] .colab-df-convert:hover {\n",
              "      background-color: #434B5C;\n",
              "      box-shadow: 0px 1px 3px 1px rgba(0, 0, 0, 0.15);\n",
              "      filter: drop-shadow(0px 1px 2px rgba(0, 0, 0, 0.3));\n",
              "      fill: #FFFFFF;\n",
              "    }\n",
              "  </style>\n",
              "\n",
              "      <script>\n",
              "        const buttonEl =\n",
              "          document.querySelector('#df-7d4422b9-67eb-4ddb-843b-1a3014a96e95 button.colab-df-convert');\n",
              "        buttonEl.style.display =\n",
              "          google.colab.kernel.accessAllowed ? 'block' : 'none';\n",
              "\n",
              "        async function convertToInteractive(key) {\n",
              "          const element = document.querySelector('#df-7d4422b9-67eb-4ddb-843b-1a3014a96e95');\n",
              "          const dataTable =\n",
              "            await google.colab.kernel.invokeFunction('convertToInteractive',\n",
              "                                                     [key], {});\n",
              "          if (!dataTable) return;\n",
              "\n",
              "          const docLinkHtml = 'Like what you see? Visit the ' +\n",
              "            '<a target=\"_blank\" href=https://colab.research.google.com/notebooks/data_table.ipynb>data table notebook</a>'\n",
              "            + ' to learn more about interactive tables.';\n",
              "          element.innerHTML = '';\n",
              "          dataTable['output_type'] = 'display_data';\n",
              "          await google.colab.output.renderOutput(dataTable, element);\n",
              "          const docLink = document.createElement('div');\n",
              "          docLink.innerHTML = docLinkHtml;\n",
              "          element.appendChild(docLink);\n",
              "        }\n",
              "      </script>\n",
              "    </div>\n",
              "  </div>\n",
              "  "
            ]
          },
          "metadata": {},
          "execution_count": 136
        }
      ],
      "source": [
        "print(\"Precio unitario en promedio en una sentencia de codigo: \")\n",
        "df.groupby(['Region'])['Unit Price','Units'].mean()"
      ]
    },
    {
      "cell_type": "markdown",
      "metadata": {
        "id": "kpfi-hePLnCP"
      },
      "source": [
        "### Q3.5\tAverage unit price and units for each region in one code sentence. Use the pivot_table() method."
      ]
    },
    {
      "cell_type": "code",
      "execution_count": null,
      "metadata": {
        "colab": {
          "base_uri": "https://localhost:8080/",
          "height": 192
        },
        "id": "XgVnyBKuLnCP",
        "outputId": "943b5fcb-ecba-42a5-89a7-7f9dea808eff"
      },
      "outputs": [
        {
          "output_type": "stream",
          "name": "stdout",
          "text": [
            "Precio unitario en promedio en una sentencia de codigo: \n"
          ]
        },
        {
          "output_type": "execute_result",
          "data": {
            "text/plain": [
              "         Unit Price      Units\n",
              "Region                        \n",
              "Central   18.018750  49.958333\n",
              "East       9.143846  53.153846\n",
              "West      53.658333  38.500000"
            ],
            "text/html": [
              "\n",
              "  <div id=\"df-e387fc8f-8bbd-497b-8e6f-cb229293b564\">\n",
              "    <div class=\"colab-df-container\">\n",
              "      <div>\n",
              "<style scoped>\n",
              "    .dataframe tbody tr th:only-of-type {\n",
              "        vertical-align: middle;\n",
              "    }\n",
              "\n",
              "    .dataframe tbody tr th {\n",
              "        vertical-align: top;\n",
              "    }\n",
              "\n",
              "    .dataframe thead th {\n",
              "        text-align: right;\n",
              "    }\n",
              "</style>\n",
              "<table border=\"1\" class=\"dataframe\">\n",
              "  <thead>\n",
              "    <tr style=\"text-align: right;\">\n",
              "      <th></th>\n",
              "      <th>Unit Price</th>\n",
              "      <th>Units</th>\n",
              "    </tr>\n",
              "    <tr>\n",
              "      <th>Region</th>\n",
              "      <th></th>\n",
              "      <th></th>\n",
              "    </tr>\n",
              "  </thead>\n",
              "  <tbody>\n",
              "    <tr>\n",
              "      <th>Central</th>\n",
              "      <td>18.018750</td>\n",
              "      <td>49.958333</td>\n",
              "    </tr>\n",
              "    <tr>\n",
              "      <th>East</th>\n",
              "      <td>9.143846</td>\n",
              "      <td>53.153846</td>\n",
              "    </tr>\n",
              "    <tr>\n",
              "      <th>West</th>\n",
              "      <td>53.658333</td>\n",
              "      <td>38.500000</td>\n",
              "    </tr>\n",
              "  </tbody>\n",
              "</table>\n",
              "</div>\n",
              "      <button class=\"colab-df-convert\" onclick=\"convertToInteractive('df-e387fc8f-8bbd-497b-8e6f-cb229293b564')\"\n",
              "              title=\"Convert this dataframe to an interactive table.\"\n",
              "              style=\"display:none;\">\n",
              "        \n",
              "  <svg xmlns=\"http://www.w3.org/2000/svg\" height=\"24px\"viewBox=\"0 0 24 24\"\n",
              "       width=\"24px\">\n",
              "    <path d=\"M0 0h24v24H0V0z\" fill=\"none\"/>\n",
              "    <path d=\"M18.56 5.44l.94 2.06.94-2.06 2.06-.94-2.06-.94-.94-2.06-.94 2.06-2.06.94zm-11 1L8.5 8.5l.94-2.06 2.06-.94-2.06-.94L8.5 2.5l-.94 2.06-2.06.94zm10 10l.94 2.06.94-2.06 2.06-.94-2.06-.94-.94-2.06-.94 2.06-2.06.94z\"/><path d=\"M17.41 7.96l-1.37-1.37c-.4-.4-.92-.59-1.43-.59-.52 0-1.04.2-1.43.59L10.3 9.45l-7.72 7.72c-.78.78-.78 2.05 0 2.83L4 21.41c.39.39.9.59 1.41.59.51 0 1.02-.2 1.41-.59l7.78-7.78 2.81-2.81c.8-.78.8-2.07 0-2.86zM5.41 20L4 18.59l7.72-7.72 1.47 1.35L5.41 20z\"/>\n",
              "  </svg>\n",
              "      </button>\n",
              "      \n",
              "  <style>\n",
              "    .colab-df-container {\n",
              "      display:flex;\n",
              "      flex-wrap:wrap;\n",
              "      gap: 12px;\n",
              "    }\n",
              "\n",
              "    .colab-df-convert {\n",
              "      background-color: #E8F0FE;\n",
              "      border: none;\n",
              "      border-radius: 50%;\n",
              "      cursor: pointer;\n",
              "      display: none;\n",
              "      fill: #1967D2;\n",
              "      height: 32px;\n",
              "      padding: 0 0 0 0;\n",
              "      width: 32px;\n",
              "    }\n",
              "\n",
              "    .colab-df-convert:hover {\n",
              "      background-color: #E2EBFA;\n",
              "      box-shadow: 0px 1px 2px rgba(60, 64, 67, 0.3), 0px 1px 3px 1px rgba(60, 64, 67, 0.15);\n",
              "      fill: #174EA6;\n",
              "    }\n",
              "\n",
              "    [theme=dark] .colab-df-convert {\n",
              "      background-color: #3B4455;\n",
              "      fill: #D2E3FC;\n",
              "    }\n",
              "\n",
              "    [theme=dark] .colab-df-convert:hover {\n",
              "      background-color: #434B5C;\n",
              "      box-shadow: 0px 1px 3px 1px rgba(0, 0, 0, 0.15);\n",
              "      filter: drop-shadow(0px 1px 2px rgba(0, 0, 0, 0.3));\n",
              "      fill: #FFFFFF;\n",
              "    }\n",
              "  </style>\n",
              "\n",
              "      <script>\n",
              "        const buttonEl =\n",
              "          document.querySelector('#df-e387fc8f-8bbd-497b-8e6f-cb229293b564 button.colab-df-convert');\n",
              "        buttonEl.style.display =\n",
              "          google.colab.kernel.accessAllowed ? 'block' : 'none';\n",
              "\n",
              "        async function convertToInteractive(key) {\n",
              "          const element = document.querySelector('#df-e387fc8f-8bbd-497b-8e6f-cb229293b564');\n",
              "          const dataTable =\n",
              "            await google.colab.kernel.invokeFunction('convertToInteractive',\n",
              "                                                     [key], {});\n",
              "          if (!dataTable) return;\n",
              "\n",
              "          const docLinkHtml = 'Like what you see? Visit the ' +\n",
              "            '<a target=\"_blank\" href=https://colab.research.google.com/notebooks/data_table.ipynb>data table notebook</a>'\n",
              "            + ' to learn more about interactive tables.';\n",
              "          element.innerHTML = '';\n",
              "          dataTable['output_type'] = 'display_data';\n",
              "          await google.colab.output.renderOutput(dataTable, element);\n",
              "          const docLink = document.createElement('div');\n",
              "          docLink.innerHTML = docLinkHtml;\n",
              "          element.appendChild(docLink);\n",
              "        }\n",
              "      </script>\n",
              "    </div>\n",
              "  </div>\n",
              "  "
            ]
          },
          "metadata": {},
          "execution_count": 137
        }
      ],
      "source": [
        "print(\"Precio unitario en promedio en una sentencia de codigo: \")\n",
        "pd.pivot_table(df, index=['Region'], aggfunc=np.mean, values=['Unit Price', 'Units'])\n",
        "#valor promedio de precio de unidad TAMBIEN promedio de unidades."
      ]
    },
    {
      "cell_type": "markdown",
      "metadata": {
        "id": "h4-y827dLnCP"
      },
      "source": [
        "### Q3.6\tTotal units for each region and item type in one code sentence. Use the pivot_table() method. Fill the missing values with 0."
      ]
    },
    {
      "cell_type": "code",
      "execution_count": null,
      "metadata": {
        "colab": {
          "base_uri": "https://localhost:8080/",
          "height": 505
        },
        "id": "_IGeaqvCLnCP",
        "outputId": "1b769184-8d36-4c1e-c6ad-53143d1035e4"
      },
      "outputs": [
        {
          "output_type": "stream",
          "name": "stdout",
          "text": [
            "Unidades totales por cada region con su item type en una sentencia de codigo: \n"
          ]
        },
        {
          "output_type": "execute_result",
          "data": {
            "text/plain": [
              "                 Units\n",
              "Region  Item          \n",
              "Central Binder     424\n",
              "        Desk         7\n",
              "        Pen         27\n",
              "        Pen Set    243\n",
              "        Pencil     498\n",
              "East    Binder     234\n",
              "        Pen        175\n",
              "        Pen Set    152\n",
              "        Pencil     130\n",
              "West    Binder      64\n",
              "        Desk         3\n",
              "        Pen         76\n",
              "        Pencil      88"
            ],
            "text/html": [
              "\n",
              "  <div id=\"df-1278029c-eabe-49a4-b89a-6a6f474e0f52\">\n",
              "    <div class=\"colab-df-container\">\n",
              "      <div>\n",
              "<style scoped>\n",
              "    .dataframe tbody tr th:only-of-type {\n",
              "        vertical-align: middle;\n",
              "    }\n",
              "\n",
              "    .dataframe tbody tr th {\n",
              "        vertical-align: top;\n",
              "    }\n",
              "\n",
              "    .dataframe thead th {\n",
              "        text-align: right;\n",
              "    }\n",
              "</style>\n",
              "<table border=\"1\" class=\"dataframe\">\n",
              "  <thead>\n",
              "    <tr style=\"text-align: right;\">\n",
              "      <th></th>\n",
              "      <th></th>\n",
              "      <th>Units</th>\n",
              "    </tr>\n",
              "    <tr>\n",
              "      <th>Region</th>\n",
              "      <th>Item</th>\n",
              "      <th></th>\n",
              "    </tr>\n",
              "  </thead>\n",
              "  <tbody>\n",
              "    <tr>\n",
              "      <th rowspan=\"5\" valign=\"top\">Central</th>\n",
              "      <th>Binder</th>\n",
              "      <td>424</td>\n",
              "    </tr>\n",
              "    <tr>\n",
              "      <th>Desk</th>\n",
              "      <td>7</td>\n",
              "    </tr>\n",
              "    <tr>\n",
              "      <th>Pen</th>\n",
              "      <td>27</td>\n",
              "    </tr>\n",
              "    <tr>\n",
              "      <th>Pen Set</th>\n",
              "      <td>243</td>\n",
              "    </tr>\n",
              "    <tr>\n",
              "      <th>Pencil</th>\n",
              "      <td>498</td>\n",
              "    </tr>\n",
              "    <tr>\n",
              "      <th rowspan=\"4\" valign=\"top\">East</th>\n",
              "      <th>Binder</th>\n",
              "      <td>234</td>\n",
              "    </tr>\n",
              "    <tr>\n",
              "      <th>Pen</th>\n",
              "      <td>175</td>\n",
              "    </tr>\n",
              "    <tr>\n",
              "      <th>Pen Set</th>\n",
              "      <td>152</td>\n",
              "    </tr>\n",
              "    <tr>\n",
              "      <th>Pencil</th>\n",
              "      <td>130</td>\n",
              "    </tr>\n",
              "    <tr>\n",
              "      <th rowspan=\"4\" valign=\"top\">West</th>\n",
              "      <th>Binder</th>\n",
              "      <td>64</td>\n",
              "    </tr>\n",
              "    <tr>\n",
              "      <th>Desk</th>\n",
              "      <td>3</td>\n",
              "    </tr>\n",
              "    <tr>\n",
              "      <th>Pen</th>\n",
              "      <td>76</td>\n",
              "    </tr>\n",
              "    <tr>\n",
              "      <th>Pencil</th>\n",
              "      <td>88</td>\n",
              "    </tr>\n",
              "  </tbody>\n",
              "</table>\n",
              "</div>\n",
              "      <button class=\"colab-df-convert\" onclick=\"convertToInteractive('df-1278029c-eabe-49a4-b89a-6a6f474e0f52')\"\n",
              "              title=\"Convert this dataframe to an interactive table.\"\n",
              "              style=\"display:none;\">\n",
              "        \n",
              "  <svg xmlns=\"http://www.w3.org/2000/svg\" height=\"24px\"viewBox=\"0 0 24 24\"\n",
              "       width=\"24px\">\n",
              "    <path d=\"M0 0h24v24H0V0z\" fill=\"none\"/>\n",
              "    <path d=\"M18.56 5.44l.94 2.06.94-2.06 2.06-.94-2.06-.94-.94-2.06-.94 2.06-2.06.94zm-11 1L8.5 8.5l.94-2.06 2.06-.94-2.06-.94L8.5 2.5l-.94 2.06-2.06.94zm10 10l.94 2.06.94-2.06 2.06-.94-2.06-.94-.94-2.06-.94 2.06-2.06.94z\"/><path d=\"M17.41 7.96l-1.37-1.37c-.4-.4-.92-.59-1.43-.59-.52 0-1.04.2-1.43.59L10.3 9.45l-7.72 7.72c-.78.78-.78 2.05 0 2.83L4 21.41c.39.39.9.59 1.41.59.51 0 1.02-.2 1.41-.59l7.78-7.78 2.81-2.81c.8-.78.8-2.07 0-2.86zM5.41 20L4 18.59l7.72-7.72 1.47 1.35L5.41 20z\"/>\n",
              "  </svg>\n",
              "      </button>\n",
              "      \n",
              "  <style>\n",
              "    .colab-df-container {\n",
              "      display:flex;\n",
              "      flex-wrap:wrap;\n",
              "      gap: 12px;\n",
              "    }\n",
              "\n",
              "    .colab-df-convert {\n",
              "      background-color: #E8F0FE;\n",
              "      border: none;\n",
              "      border-radius: 50%;\n",
              "      cursor: pointer;\n",
              "      display: none;\n",
              "      fill: #1967D2;\n",
              "      height: 32px;\n",
              "      padding: 0 0 0 0;\n",
              "      width: 32px;\n",
              "    }\n",
              "\n",
              "    .colab-df-convert:hover {\n",
              "      background-color: #E2EBFA;\n",
              "      box-shadow: 0px 1px 2px rgba(60, 64, 67, 0.3), 0px 1px 3px 1px rgba(60, 64, 67, 0.15);\n",
              "      fill: #174EA6;\n",
              "    }\n",
              "\n",
              "    [theme=dark] .colab-df-convert {\n",
              "      background-color: #3B4455;\n",
              "      fill: #D2E3FC;\n",
              "    }\n",
              "\n",
              "    [theme=dark] .colab-df-convert:hover {\n",
              "      background-color: #434B5C;\n",
              "      box-shadow: 0px 1px 3px 1px rgba(0, 0, 0, 0.15);\n",
              "      filter: drop-shadow(0px 1px 2px rgba(0, 0, 0, 0.3));\n",
              "      fill: #FFFFFF;\n",
              "    }\n",
              "  </style>\n",
              "\n",
              "      <script>\n",
              "        const buttonEl =\n",
              "          document.querySelector('#df-1278029c-eabe-49a4-b89a-6a6f474e0f52 button.colab-df-convert');\n",
              "        buttonEl.style.display =\n",
              "          google.colab.kernel.accessAllowed ? 'block' : 'none';\n",
              "\n",
              "        async function convertToInteractive(key) {\n",
              "          const element = document.querySelector('#df-1278029c-eabe-49a4-b89a-6a6f474e0f52');\n",
              "          const dataTable =\n",
              "            await google.colab.kernel.invokeFunction('convertToInteractive',\n",
              "                                                     [key], {});\n",
              "          if (!dataTable) return;\n",
              "\n",
              "          const docLinkHtml = 'Like what you see? Visit the ' +\n",
              "            '<a target=\"_blank\" href=https://colab.research.google.com/notebooks/data_table.ipynb>data table notebook</a>'\n",
              "            + ' to learn more about interactive tables.';\n",
              "          element.innerHTML = '';\n",
              "          dataTable['output_type'] = 'display_data';\n",
              "          await google.colab.output.renderOutput(dataTable, element);\n",
              "          const docLink = document.createElement('div');\n",
              "          docLink.innerHTML = docLinkHtml;\n",
              "          element.appendChild(docLink);\n",
              "        }\n",
              "      </script>\n",
              "    </div>\n",
              "  </div>\n",
              "  "
            ]
          },
          "metadata": {},
          "execution_count": 138
        }
      ],
      "source": [
        "print(\"Unidades totales por cada region con su item type en una sentencia de codigo: \")\n",
        "pd.pivot_table(df, index=['Region', 'Item'], values=['Units'], aggfunc=pd.Series.sum, fill_value=0)\n",
        "#sumo los valores de cada tipo de objeto por cada region uso sum() para sumarlas todas."
      ]
    },
    {
      "cell_type": "markdown",
      "metadata": {
        "id": "PbgcIrddLnCP"
      },
      "source": [
        "### Q3.7\tTotal sales amount for each region and item type in one code sentence. Use the pivot_table() method. Fill the missing values with 0."
      ]
    },
    {
      "cell_type": "code",
      "execution_count": null,
      "metadata": {
        "colab": {
          "base_uri": "https://localhost:8080/",
          "height": 505
        },
        "id": "iHHF_9tkLnCP",
        "outputId": "f2139779-62c6-4a6b-c930-066582291177"
      },
      "outputs": [
        {
          "output_type": "stream",
          "name": "stdout",
          "text": [
            "Total de ventas por region y tipo de objeto en una sentencia de codigo: \n"
          ]
        },
        {
          "output_type": "execute_result",
          "data": {
            "text/plain": [
              "                  Amount\n",
              "Region  Item            \n",
              "Central Binder   5762.63\n",
              "        Desk      875.00\n",
              "        Pen       539.73\n",
              "        Pen Set  2421.39\n",
              "        Pencil   1540.32\n",
              "East    Binder   2535.66\n",
              "        Pen      1354.25\n",
              "        Pen Set  1748.48\n",
              "        Pencil    363.70\n",
              "West    Binder   1279.36\n",
              "        Desk      825.00\n",
              "        Pen       151.24\n",
              "        Pencil    231.12"
            ],
            "text/html": [
              "\n",
              "  <div id=\"df-9651b6b5-8e6d-4e47-ab88-a66722723335\">\n",
              "    <div class=\"colab-df-container\">\n",
              "      <div>\n",
              "<style scoped>\n",
              "    .dataframe tbody tr th:only-of-type {\n",
              "        vertical-align: middle;\n",
              "    }\n",
              "\n",
              "    .dataframe tbody tr th {\n",
              "        vertical-align: top;\n",
              "    }\n",
              "\n",
              "    .dataframe thead th {\n",
              "        text-align: right;\n",
              "    }\n",
              "</style>\n",
              "<table border=\"1\" class=\"dataframe\">\n",
              "  <thead>\n",
              "    <tr style=\"text-align: right;\">\n",
              "      <th></th>\n",
              "      <th></th>\n",
              "      <th>Amount</th>\n",
              "    </tr>\n",
              "    <tr>\n",
              "      <th>Region</th>\n",
              "      <th>Item</th>\n",
              "      <th></th>\n",
              "    </tr>\n",
              "  </thead>\n",
              "  <tbody>\n",
              "    <tr>\n",
              "      <th rowspan=\"5\" valign=\"top\">Central</th>\n",
              "      <th>Binder</th>\n",
              "      <td>5762.63</td>\n",
              "    </tr>\n",
              "    <tr>\n",
              "      <th>Desk</th>\n",
              "      <td>875.00</td>\n",
              "    </tr>\n",
              "    <tr>\n",
              "      <th>Pen</th>\n",
              "      <td>539.73</td>\n",
              "    </tr>\n",
              "    <tr>\n",
              "      <th>Pen Set</th>\n",
              "      <td>2421.39</td>\n",
              "    </tr>\n",
              "    <tr>\n",
              "      <th>Pencil</th>\n",
              "      <td>1540.32</td>\n",
              "    </tr>\n",
              "    <tr>\n",
              "      <th rowspan=\"4\" valign=\"top\">East</th>\n",
              "      <th>Binder</th>\n",
              "      <td>2535.66</td>\n",
              "    </tr>\n",
              "    <tr>\n",
              "      <th>Pen</th>\n",
              "      <td>1354.25</td>\n",
              "    </tr>\n",
              "    <tr>\n",
              "      <th>Pen Set</th>\n",
              "      <td>1748.48</td>\n",
              "    </tr>\n",
              "    <tr>\n",
              "      <th>Pencil</th>\n",
              "      <td>363.70</td>\n",
              "    </tr>\n",
              "    <tr>\n",
              "      <th rowspan=\"4\" valign=\"top\">West</th>\n",
              "      <th>Binder</th>\n",
              "      <td>1279.36</td>\n",
              "    </tr>\n",
              "    <tr>\n",
              "      <th>Desk</th>\n",
              "      <td>825.00</td>\n",
              "    </tr>\n",
              "    <tr>\n",
              "      <th>Pen</th>\n",
              "      <td>151.24</td>\n",
              "    </tr>\n",
              "    <tr>\n",
              "      <th>Pencil</th>\n",
              "      <td>231.12</td>\n",
              "    </tr>\n",
              "  </tbody>\n",
              "</table>\n",
              "</div>\n",
              "      <button class=\"colab-df-convert\" onclick=\"convertToInteractive('df-9651b6b5-8e6d-4e47-ab88-a66722723335')\"\n",
              "              title=\"Convert this dataframe to an interactive table.\"\n",
              "              style=\"display:none;\">\n",
              "        \n",
              "  <svg xmlns=\"http://www.w3.org/2000/svg\" height=\"24px\"viewBox=\"0 0 24 24\"\n",
              "       width=\"24px\">\n",
              "    <path d=\"M0 0h24v24H0V0z\" fill=\"none\"/>\n",
              "    <path d=\"M18.56 5.44l.94 2.06.94-2.06 2.06-.94-2.06-.94-.94-2.06-.94 2.06-2.06.94zm-11 1L8.5 8.5l.94-2.06 2.06-.94-2.06-.94L8.5 2.5l-.94 2.06-2.06.94zm10 10l.94 2.06.94-2.06 2.06-.94-2.06-.94-.94-2.06-.94 2.06-2.06.94z\"/><path d=\"M17.41 7.96l-1.37-1.37c-.4-.4-.92-.59-1.43-.59-.52 0-1.04.2-1.43.59L10.3 9.45l-7.72 7.72c-.78.78-.78 2.05 0 2.83L4 21.41c.39.39.9.59 1.41.59.51 0 1.02-.2 1.41-.59l7.78-7.78 2.81-2.81c.8-.78.8-2.07 0-2.86zM5.41 20L4 18.59l7.72-7.72 1.47 1.35L5.41 20z\"/>\n",
              "  </svg>\n",
              "      </button>\n",
              "      \n",
              "  <style>\n",
              "    .colab-df-container {\n",
              "      display:flex;\n",
              "      flex-wrap:wrap;\n",
              "      gap: 12px;\n",
              "    }\n",
              "\n",
              "    .colab-df-convert {\n",
              "      background-color: #E8F0FE;\n",
              "      border: none;\n",
              "      border-radius: 50%;\n",
              "      cursor: pointer;\n",
              "      display: none;\n",
              "      fill: #1967D2;\n",
              "      height: 32px;\n",
              "      padding: 0 0 0 0;\n",
              "      width: 32px;\n",
              "    }\n",
              "\n",
              "    .colab-df-convert:hover {\n",
              "      background-color: #E2EBFA;\n",
              "      box-shadow: 0px 1px 2px rgba(60, 64, 67, 0.3), 0px 1px 3px 1px rgba(60, 64, 67, 0.15);\n",
              "      fill: #174EA6;\n",
              "    }\n",
              "\n",
              "    [theme=dark] .colab-df-convert {\n",
              "      background-color: #3B4455;\n",
              "      fill: #D2E3FC;\n",
              "    }\n",
              "\n",
              "    [theme=dark] .colab-df-convert:hover {\n",
              "      background-color: #434B5C;\n",
              "      box-shadow: 0px 1px 3px 1px rgba(0, 0, 0, 0.15);\n",
              "      filter: drop-shadow(0px 1px 2px rgba(0, 0, 0, 0.3));\n",
              "      fill: #FFFFFF;\n",
              "    }\n",
              "  </style>\n",
              "\n",
              "      <script>\n",
              "        const buttonEl =\n",
              "          document.querySelector('#df-9651b6b5-8e6d-4e47-ab88-a66722723335 button.colab-df-convert');\n",
              "        buttonEl.style.display =\n",
              "          google.colab.kernel.accessAllowed ? 'block' : 'none';\n",
              "\n",
              "        async function convertToInteractive(key) {\n",
              "          const element = document.querySelector('#df-9651b6b5-8e6d-4e47-ab88-a66722723335');\n",
              "          const dataTable =\n",
              "            await google.colab.kernel.invokeFunction('convertToInteractive',\n",
              "                                                     [key], {});\n",
              "          if (!dataTable) return;\n",
              "\n",
              "          const docLinkHtml = 'Like what you see? Visit the ' +\n",
              "            '<a target=\"_blank\" href=https://colab.research.google.com/notebooks/data_table.ipynb>data table notebook</a>'\n",
              "            + ' to learn more about interactive tables.';\n",
              "          element.innerHTML = '';\n",
              "          dataTable['output_type'] = 'display_data';\n",
              "          await google.colab.output.renderOutput(dataTable, element);\n",
              "          const docLink = document.createElement('div');\n",
              "          docLink.innerHTML = docLinkHtml;\n",
              "          element.appendChild(docLink);\n",
              "        }\n",
              "      </script>\n",
              "    </div>\n",
              "  </div>\n",
              "  "
            ]
          },
          "metadata": {},
          "execution_count": 139
        }
      ],
      "source": [
        "print(\"Total de ventas por region y tipo de objeto en una sentencia de codigo: \")\n",
        "pd.pivot_table(df, index=['Region', 'Item'], values=['Amount'], aggfunc=np.sum, fill_value=0)"
      ]
    },
    {
      "cell_type": "markdown",
      "metadata": {
        "id": "auQPxfp6LnCP"
      },
      "source": [
        "## Q4.\tAnswer the following questions."
      ]
    },
    {
      "cell_type": "code",
      "execution_count": null,
      "metadata": {
        "colab": {
          "base_uri": "https://localhost:8080/",
          "height": 206
        },
        "id": "MFBTG1UmLnCQ",
        "outputId": "36d6b198-1303-4b27-dce2-7340837cc7ad"
      },
      "outputs": [
        {
          "output_type": "execute_result",
          "data": {
            "text/plain": [
              "   Year of Start Current State  Size of Site\n",
              "0         2008.0            In         20.80\n",
              "1         2010.0            In        212.72\n",
              "2         2013.0            In         20.04\n",
              "3         2012.0            In         64.17\n",
              "4         2002.0           Out         11.40"
            ],
            "text/html": [
              "\n",
              "  <div id=\"df-ee8f5bbd-8c7e-465e-a595-e6f589c1138a\">\n",
              "    <div class=\"colab-df-container\">\n",
              "      <div>\n",
              "<style scoped>\n",
              "    .dataframe tbody tr th:only-of-type {\n",
              "        vertical-align: middle;\n",
              "    }\n",
              "\n",
              "    .dataframe tbody tr th {\n",
              "        vertical-align: top;\n",
              "    }\n",
              "\n",
              "    .dataframe thead th {\n",
              "        text-align: right;\n",
              "    }\n",
              "</style>\n",
              "<table border=\"1\" class=\"dataframe\">\n",
              "  <thead>\n",
              "    <tr style=\"text-align: right;\">\n",
              "      <th></th>\n",
              "      <th>Year of Start</th>\n",
              "      <th>Current State</th>\n",
              "      <th>Size of Site</th>\n",
              "    </tr>\n",
              "  </thead>\n",
              "  <tbody>\n",
              "    <tr>\n",
              "      <th>0</th>\n",
              "      <td>2008.0</td>\n",
              "      <td>In</td>\n",
              "      <td>20.80</td>\n",
              "    </tr>\n",
              "    <tr>\n",
              "      <th>1</th>\n",
              "      <td>2010.0</td>\n",
              "      <td>In</td>\n",
              "      <td>212.72</td>\n",
              "    </tr>\n",
              "    <tr>\n",
              "      <th>2</th>\n",
              "      <td>2013.0</td>\n",
              "      <td>In</td>\n",
              "      <td>20.04</td>\n",
              "    </tr>\n",
              "    <tr>\n",
              "      <th>3</th>\n",
              "      <td>2012.0</td>\n",
              "      <td>In</td>\n",
              "      <td>64.17</td>\n",
              "    </tr>\n",
              "    <tr>\n",
              "      <th>4</th>\n",
              "      <td>2002.0</td>\n",
              "      <td>Out</td>\n",
              "      <td>11.40</td>\n",
              "    </tr>\n",
              "  </tbody>\n",
              "</table>\n",
              "</div>\n",
              "      <button class=\"colab-df-convert\" onclick=\"convertToInteractive('df-ee8f5bbd-8c7e-465e-a595-e6f589c1138a')\"\n",
              "              title=\"Convert this dataframe to an interactive table.\"\n",
              "              style=\"display:none;\">\n",
              "        \n",
              "  <svg xmlns=\"http://www.w3.org/2000/svg\" height=\"24px\"viewBox=\"0 0 24 24\"\n",
              "       width=\"24px\">\n",
              "    <path d=\"M0 0h24v24H0V0z\" fill=\"none\"/>\n",
              "    <path d=\"M18.56 5.44l.94 2.06.94-2.06 2.06-.94-2.06-.94-.94-2.06-.94 2.06-2.06.94zm-11 1L8.5 8.5l.94-2.06 2.06-.94-2.06-.94L8.5 2.5l-.94 2.06-2.06.94zm10 10l.94 2.06.94-2.06 2.06-.94-2.06-.94-.94-2.06-.94 2.06-2.06.94z\"/><path d=\"M17.41 7.96l-1.37-1.37c-.4-.4-.92-.59-1.43-.59-.52 0-1.04.2-1.43.59L10.3 9.45l-7.72 7.72c-.78.78-.78 2.05 0 2.83L4 21.41c.39.39.9.59 1.41.59.51 0 1.02-.2 1.41-.59l7.78-7.78 2.81-2.81c.8-.78.8-2.07 0-2.86zM5.41 20L4 18.59l7.72-7.72 1.47 1.35L5.41 20z\"/>\n",
              "  </svg>\n",
              "      </button>\n",
              "      \n",
              "  <style>\n",
              "    .colab-df-container {\n",
              "      display:flex;\n",
              "      flex-wrap:wrap;\n",
              "      gap: 12px;\n",
              "    }\n",
              "\n",
              "    .colab-df-convert {\n",
              "      background-color: #E8F0FE;\n",
              "      border: none;\n",
              "      border-radius: 50%;\n",
              "      cursor: pointer;\n",
              "      display: none;\n",
              "      fill: #1967D2;\n",
              "      height: 32px;\n",
              "      padding: 0 0 0 0;\n",
              "      width: 32px;\n",
              "    }\n",
              "\n",
              "    .colab-df-convert:hover {\n",
              "      background-color: #E2EBFA;\n",
              "      box-shadow: 0px 1px 2px rgba(60, 64, 67, 0.3), 0px 1px 3px 1px rgba(60, 64, 67, 0.15);\n",
              "      fill: #174EA6;\n",
              "    }\n",
              "\n",
              "    [theme=dark] .colab-df-convert {\n",
              "      background-color: #3B4455;\n",
              "      fill: #D2E3FC;\n",
              "    }\n",
              "\n",
              "    [theme=dark] .colab-df-convert:hover {\n",
              "      background-color: #434B5C;\n",
              "      box-shadow: 0px 1px 3px 1px rgba(0, 0, 0, 0.15);\n",
              "      filter: drop-shadow(0px 1px 2px rgba(0, 0, 0, 0.3));\n",
              "      fill: #FFFFFF;\n",
              "    }\n",
              "  </style>\n",
              "\n",
              "      <script>\n",
              "        const buttonEl =\n",
              "          document.querySelector('#df-ee8f5bbd-8c7e-465e-a595-e6f589c1138a button.colab-df-convert');\n",
              "        buttonEl.style.display =\n",
              "          google.colab.kernel.accessAllowed ? 'block' : 'none';\n",
              "\n",
              "        async function convertToInteractive(key) {\n",
              "          const element = document.querySelector('#df-ee8f5bbd-8c7e-465e-a595-e6f589c1138a');\n",
              "          const dataTable =\n",
              "            await google.colab.kernel.invokeFunction('convertToInteractive',\n",
              "                                                     [key], {});\n",
              "          if (!dataTable) return;\n",
              "\n",
              "          const docLinkHtml = 'Like what you see? Visit the ' +\n",
              "            '<a target=\"_blank\" href=https://colab.research.google.com/notebooks/data_table.ipynb>data table notebook</a>'\n",
              "            + ' to learn more about interactive tables.';\n",
              "          element.innerHTML = '';\n",
              "          dataTable['output_type'] = 'display_data';\n",
              "          await google.colab.output.renderOutput(dataTable, element);\n",
              "          const docLink = document.createElement('div');\n",
              "          docLink.innerHTML = docLinkHtml;\n",
              "          element.appendChild(docLink);\n",
              "        }\n",
              "      </script>\n",
              "    </div>\n",
              "  </div>\n",
              "  "
            ]
          },
          "metadata": {},
          "execution_count": 95
        }
      ],
      "source": [
        "import pandas as pd\n",
        "import numpy as np\n",
        "import os\n",
        "import matplotlib.pyplot as plt\n",
        "%matplotlib inline\n",
        "\n",
        "#Read in the data.\n",
        "# Go to the directory where the data file is located. \n",
        "# os.chdir(r'~~')                # Please, replace the path with your own.\n",
        "df = pd.read_csv('data_coffeeshop.csv', header='infer',na_values=[' '])\n",
        "df.shape\n",
        "df.head(5)"
      ]
    },
    {
      "cell_type": "markdown",
      "metadata": {
        "id": "uJIs0oiMLnCQ"
      },
      "source": [
        "## Q4.1 Make a frequency table of 'Year of Start' and visualize by year.\n",
        "*\tSort by the year.\n",
        "*\tDraw a line plot from 1997 to 2014. <= Hint: plt.xlim()"
      ]
    },
    {
      "cell_type": "code",
      "execution_count": null,
      "metadata": {
        "colab": {
          "base_uri": "https://localhost:8080/",
          "height": 447
        },
        "id": "Qxt6AGLmLnCQ",
        "outputId": "ac8bbf60-71ef-4883-8260-159c79a5b25f"
      },
      "outputs": [
        {
          "output_type": "execute_result",
          "data": {
            "text/plain": [
              "(1997.0, 2014.0)"
            ]
          },
          "metadata": {},
          "execution_count": 96
        },
        {
          "output_type": "display_data",
          "data": {
            "text/plain": [
              "<Figure size 640x480 with 1 Axes>"
            ],
            "image/png": "[encoded data removed]"
          },
          "metadata": {}
        }
      ],
      "source": [
        "tabla = df.sort_values(by=['Year of Start'])['Year of Start'].value_counts()\n",
        "plt.plot(tabla, marker='o', linewidth=0) #no estoy seguro de que esta sea la forma que piden de representar\n",
        "plt.xlim(1997, 2014)"
      ]
    },
    {
      "cell_type": "markdown",
      "metadata": {
        "id": "CPg3h6HuLnCQ"
      },
      "source": [
        "## Q4.2 Split the data by the current state of business ('In' or 'Out' of business). Then, visualize the yearly trend of the 'Year of Start' frequencies as two overlapping plots.\n",
        "*\tSort by the year.\n",
        "*\tDraw two overlapping line plots from 1997 to 2014.\n",
        "*\tUse the 'figure' object."
      ]
    },
    {
      "cell_type": "code",
      "execution_count": null,
      "metadata": {
        "colab": {
          "base_uri": "https://localhost:8080/",
          "height": 923
        },
        "id": "7ClWi6KnLnCQ",
        "outputId": "67d5eda4-7992-4196-da96-3dd1c9a55da0"
      },
      "outputs": [
        {
          "output_type": "stream",
          "name": "stderr",
          "text": [
            "<ipython-input-102-3f4483e6f88d>:2: UserWarning: Boolean Series key will be reindexed to match DataFrame index.\n",
            "  tablaIN = df.sort_values(by=['Year of Start'])[df['Current State'] == 'In']['Year of Start'].value_counts()\n",
            "<ipython-input-102-3f4483e6f88d>:3: UserWarning: Boolean Series key will be reindexed to match DataFrame index.\n",
            "  tablaOUT = df.sort_values(by=['Year of Start'])[df['Current State'] == 'Out']['Year of Start'].value_counts()\n"
          ]
        },
        {
          "output_type": "display_data",
          "data": {
            "text/plain": [
              "<Figure size 900x900 with 1 Axes>"
            ],
            "image/png": "[encoded data removed]"
          },
          "metadata": {}
        }
      ],
      "source": [
        "figure = plt.figure(figsize=(9,9))\n",
        "tablaIN = df.sort_values(by=['Year of Start'])[df['Current State'] == 'In']['Year of Start'].value_counts()\n",
        "tablaOUT = df.sort_values(by=['Year of Start'])[df['Current State'] == 'Out']['Year of Start'].value_counts()\n",
        "axe = figure.add_subplot(1,1,1)\n",
        "axe.plot(tablaIN, marker=\"o\", linewidth=0, label='In')\n",
        "axe.plot(tablaOUT,marker=\"o\", linewidth=0, label='Out')\n",
        "plt.xlim(1997, 2014) #notese que un dato se queda justo en el borde!!\n",
        "figure.legend()\n",
        "plt.show()"
      ]
    },
    {
      "cell_type": "markdown",
      "metadata": {
        "id": "-YJrpiKwLnCQ"
      },
      "source": [
        "## Q4.3 From the results of Q4.1 and Q4.2, how can you describe the trend in general?"
      ]
    },
    {
      "cell_type": "code",
      "execution_count": null,
      "metadata": {
        "colab": {
          "base_uri": "https://localhost:8080/"
        },
        "id": "YYvKbOEFLnCQ",
        "outputId": "f8b0f552-8c2d-4b55-a526-da8f4a651740"
      },
      "outputs": [
        {
          "output_type": "stream",
          "name": "stdout",
          "text": [
            "Que ha habido mas entradas segun ha ido pasando el tiempo en general, especialmente a partir de 2008\n"
          ]
        }
      ],
      "source": [
        "print(\"Que ha habido mas entradas segun ha ido pasando el tiempo en general, especialmente a partir de 2008\")"
      ]
    }
  ],
  "metadata": {
    "kernelspec": {
      "display_name": "Python 3 (ipykernel)",
      "language": "python",
      "name": "python3"
    },
    "language_info": {
      "codemirror_mode": {
        "name": "ipython",
        "version": 3
      },
      "file_extension": ".py",
      "mimetype": "text/x-python",
      "name": "python",
      "nbconvert_exporter": "python",
      "pygments_lexer": "ipython3",
      "version": "3.10.6"
    },
    "colab": {
      "provenance": []
    }
  },
  "nbformat": 4,
  "nbformat_minor": 0
}