{
  "cells": [
    {
      "cell_type": "code",
      "source": [
        "import numpy as np\n",
        "from numpy import linalg as la\n",
        "import sympy as sym\n",
        "import pandas as pd\n",
        "\n",
        "#Hecho por César Martínez Chico"
      ],
      "metadata": {
        "id": "WRAQFyFX2aJP"
      },
      "id": "WRAQFyFX2aJP",
      "execution_count": null,
      "outputs": []
    },
    {
      "cell_type": "markdown",
      "id": "14487258",
      "metadata": {
        "id": "14487258"
      },
      "source": [
        "# Math for Data Science (examen)\n",
        "\n",
        "\n",
        "\n",
        "#### Ejercicio 1. (3 puntos)\n",
        "\n",
        "Considera los vectores $u=(4,5,2,2)$ y $v=(2,2,0,1)$ y las matrices $M=\\begin{pmatrix} 2 & 1 & 1\\\\ 1 & 1 & 0 \\\\ 3 & -1 & 2 \\end{pmatrix}$ y $N=\\begin{pmatrix} 4 & 3 & -1\\\\ 5 & 0 & 3 \\\\ 2 & 1 & 1 \\end{pmatrix}$.\n",
        "\n",
        "- Calcula el producto escalar entre $u$ y $v$ de dos maneras distintas.\n",
        "- Determina la similitud del coseno de las matrices $M$ y $N$, considerando el producto escalar $\\langle A, B\\rangle := \\operatorname{traza}(A^tB)$.\n",
        "- ¿Cuál es la norma de $M$? ¿Y la distancia de $M$ a $N$?\n",
        "- ¿Es $M$ invertible? Justifica tu respuesta y, en caso afirmativo, calcula su inversa de dos maneras distintas.\n",
        "- ¿Cuál es el rango de $N$? A partir de tu respuesta, justifica (sin realizar ningún cálculo) cuántos valores singulares no nulos tiene $N$.\n",
        "- Si $A\\in\\mathcal{M}_{m\\times n}(\\mathbb{R})$ tiene todos sus valores singulares estrictamente positivos, ¿cuál es el rango de $A$?"
      ]
    },
    {
      "cell_type": "code",
      "source": [
        "u = np.array([4,5,2,2])\n",
        "v = np.array([2,2,0,1])\n",
        "M = np.array([[2,1,1],[1,1,0],[3,-1,2]])\n",
        "N = np.array([[4,3,-1],[5,0,3],[2,1,1]])\n",
        "#a)\n",
        "print('producto escalar manera 1:')\n",
        "productoEscalar1 = u@v.T\n",
        "print(productoEscalar1)\n",
        "print('producto escalar manera 2:')\n",
        "productoEscalar2 = np.sum(u*v.T)\n",
        "print(productoEscalar2)\n",
        "#b)\n",
        "simCos = np.abs((M@N.T)[0][0])/(la.norm(M)*la.norm(N))\n",
        "print('similitud de cosenos: ' + str(simCos))\n",
        "#c)\n",
        "normaM = la.norm(M)\n",
        "print('la norma de M es = '+ str(normaM))\n",
        "distancia = la.norm(M-N)\n",
        "print('la distanncia es = ' + str(distancia))\n",
        "#d)\n",
        "print('determinante de M = ' + str(la.det(M))  + 'por tanto es invertible') #como puede verse el determinante es distinto de 0, por tanto es invertible.\n",
        "inver1 = np.hstack([M, np.eye(3)])\n",
        "RREF,piv=sym.Matrix(inver1).rref()\n",
        "print('inversa de M, manera 1 : ')\n",
        "display(RREF[:,3:6])\n",
        "\n",
        "print('inversa de M, manera 2 : ')\n",
        "inver2 = la.inv(M) #inversa de M\n",
        "print(inver2)\n",
        "\n",
        "#e)\n",
        "print('rango de N = ' + str(la.matrix_rank(N)))\n",
        "#por tanto tendra 3 valores no nulos, porque el rango de una matriz es igual al numero de valores propios no nulos.\n",
        "\n",
        "#f)\n",
        "print('el rango de A = ' + str(la.matrix_rank(M)))"
      ],
      "metadata": {
        "colab": {
          "base_uri": "https://localhost:8080/",
          "height": 338
        },
        "id": "E2WbbawN16a1",
        "outputId": "205196de-0e1f-47c6-fb01-3713ceb6c644"
      },
      "id": "E2WbbawN16a1",
      "execution_count": null,
      "outputs": [
        {
          "output_type": "stream",
          "name": "stdout",
          "text": [
            "producto escalar manera 1:\n",
            "20\n",
            "producto escalar manera 2:\n",
            "20\n",
            "similitud de cosenos: 0.26243194054073893\n",
            "la norma de M es = 4.69041575982343\n",
            "la distanncia es = 6.6332495807108\n",
            "determinante de M = -2.0000000000000004por tanto es invertible\n",
            "inversa de M, manera 1 : \n"
          ]
        },
        {
          "output_type": "display_data",
          "data": {
            "text/plain": [
              "Matrix([\n",
              "[-1.0,  1.5,  0.5],\n",
              "[ 1.0, -0.5, -0.5],\n",
              "[ 2.0, -2.5, -0.5]])"
            ],
            "text/latex": "$\\displaystyle \\left[\\begin{matrix}-1.0 & 1.5 & 0.5\\\\1.0 & -0.5 & -0.5\\\\2.0 & -2.5 & -0.5\\end{matrix}\\right]$"
          },
          "metadata": {}
        },
        {
          "output_type": "stream",
          "name": "stdout",
          "text": [
            "inversa de M, manera 2 : \n",
            "[[-1.   1.5  0.5]\n",
            " [ 1.  -0.5 -0.5]\n",
            " [ 2.  -2.5 -0.5]]\n",
            "rango de N = 3\n",
            "el rango de A = 3\n"
          ]
        }
      ]
    },
    {
      "cell_type": "markdown",
      "id": "ac80be37",
      "metadata": {
        "id": "ac80be37"
      },
      "source": [
        "#### Ejercicio 2. (1.5 puntos)\n",
        "\n",
        "- Crea una matriz $M =(m_{ij})$ dedimensión $70\\times 70$ tal que $m_{ii}=0$ y $m_{ij}=1$ para $i\\neq j$. \n",
        "- Comprueba que el vector $v=(1,1,...,1)$ es un vector propio de $M$. ¿Cuál es su valor propio asociado? "
      ]
    },
    {
      "cell_type": "code",
      "source": [
        "#a) \n",
        "print('apartado a: ')\n",
        "M = np.ones([70,70]) - np.eye(70)\n",
        "print(M) \n",
        "#b)\n",
        "print('apartado b: ')\n",
        "v = np.ones(70)\n",
        "Mv = np.dot(M, v)\n",
        "if np.allclose(Mv, 70*v):\n",
        "  print('es vector propio')\n",
        "else:\n",
        "  print('no es vector propio')  \n",
        "#autovalores, autovectores = la.eig(M)"
      ],
      "metadata": {
        "colab": {
          "base_uri": "https://localhost:8080/"
        },
        "id": "-WOtu_HN7yeI",
        "outputId": "0e4351b3-c24e-4355-c063-9190782d50f6"
      },
      "id": "-WOtu_HN7yeI",
      "execution_count": null,
      "outputs": [
        {
          "output_type": "stream",
          "name": "stdout",
          "text": [
            "apartado a: \n",
            "[[0. 1. 1. ... 1. 1. 1.]\n",
            " [1. 0. 1. ... 1. 1. 1.]\n",
            " [1. 1. 0. ... 1. 1. 1.]\n",
            " ...\n",
            " [1. 1. 1. ... 0. 1. 1.]\n",
            " [1. 1. 1. ... 1. 0. 1.]\n",
            " [1. 1. 1. ... 1. 1. 0.]]\n",
            "apartado b: \n",
            "no es vector propio\n"
          ]
        }
      ]
    },
    {
      "cell_type": "markdown",
      "id": "373e95a8",
      "metadata": {
        "id": "373e95a8"
      },
      "source": [
        "#### Ejercicio 3. (1.5 puntos).\n",
        "\n",
        "El fichero `ratings_exam.csv` contiene puntuaciones de 0.5 a 5 de varios usuarios sobre varias películas. \n",
        "\n",
        "- Determina el número total de usuarios y de películas de dicha base de datos. \n",
        "- Realiza un algoritmo de recomendación apropiado para determinar las recomendaciones que harías para los usuarios 200,201,202,...,210."
      ]
    },
    {
      "cell_type": "code",
      "source": [
        "#a)\n",
        "db = pd.read_csv('ratings_exam.csv')\n",
        "#print(db)\n",
        "print('el numero de usuarios es = ' + str(db['userId'].nunique()))\n",
        "#print('el numero de peliculas es = ' + str(len(db['movieId'].unique())))\n",
        "print('el numero de peliculas es = ' + str(db['movieId'].nunique()))\n",
        "#cualquiera de las dos vale\n",
        "\n",
        "\n"
      ],
      "metadata": {
        "colab": {
          "base_uri": "https://localhost:8080/"
        },
        "id": "Da52Xda6AVTj",
        "outputId": "d31db84c-4615-49e5-bbcc-c9f2a2756e9f"
      },
      "id": "Da52Xda6AVTj",
      "execution_count": null,
      "outputs": [
        {
          "output_type": "stream",
          "name": "stdout",
          "text": [
            "el numero de usuarios es = 610\n",
            "el numero de peliculas es = 9724\n"
          ]
        }
      ]
    },
    {
      "cell_type": "code",
      "source": [
        "#b)\n",
        "pelis = db.pivot_table(index = 'userId', columns = 'movieId', values= 'rating').fillna(0)\n",
        "matrizR = pelis.to_numpy()\n",
        "print(matrizR.shape) #comprobamos que las respuestas del anterior apartado estan bien\n",
        "\n",
        "S1=(1/la.norm(matrizR, axis=1).reshape(610,1))*matrizR\n",
        "S=S1@S1.T\n",
        "#print(S)\n",
        "\n",
        "K=S@matrizR\n",
        "R=np.argsort(K, axis=1)\n",
        "#print(R)\n",
        "\n",
        "peliculas=db.movieId.to_numpy()\n",
        "\n",
        "def Recomendacion(i): #metodo que calcula la recomendacion para i\n",
        "    return R[i-1][matrizR[i-1,R[i-1,:]]==0][-1]\n",
        "\n",
        "for i in range(199,210):\n",
        "    print(\"Al usuario\", i+1, \"le recomendamos la película\", np.unique(peliculas)[Recomendacion(i+1)], \"\\n\")"
      ],
      "metadata": {
        "colab": {
          "base_uri": "https://localhost:8080/"
        },
        "id": "4PsCjOqZFxaM",
        "outputId": "a42d6edb-7c87-408b-d8d1-74eaaff2dfa9"
      },
      "id": "4PsCjOqZFxaM",
      "execution_count": null,
      "outputs": [
        {
          "output_type": "stream",
          "name": "stdout",
          "text": [
            "(610, 9724)\n",
            "Al usuario 200 le recomendamos la película 593 \n",
            "\n",
            "Al usuario 201 le recomendamos la película 318 \n",
            "\n",
            "Al usuario 202 le recomendamos la película 527 \n",
            "\n",
            "Al usuario 203 le recomendamos la película 356 \n",
            "\n",
            "Al usuario 204 le recomendamos la película 318 \n",
            "\n",
            "Al usuario 205 le recomendamos la película 318 \n",
            "\n",
            "Al usuario 206 le recomendamos la película 296 \n",
            "\n",
            "Al usuario 207 le recomendamos la película 296 \n",
            "\n",
            "Al usuario 208 le recomendamos la película 356 \n",
            "\n",
            "Al usuario 209 le recomendamos la película 296 \n",
            "\n",
            "Al usuario 210 le recomendamos la película 318 \n",
            "\n"
          ]
        }
      ]
    },
    {
      "cell_type": "markdown",
      "id": "7c5e0140",
      "metadata": {
        "id": "7c5e0140"
      },
      "source": [
        "#### Ejercicio 4. (2 puntos)\n",
        "\n",
        "Considera la función $f(x,y)=e^{x^2+xy}$. \n",
        "\n",
        "- Calcula el vector gradiente $\\nabla f (x,y)$.\n",
        "- Halla la derivada $\\left.\\dfrac{\\partial^3 f}{\\partial y\\partial x\\partial y}\\right\\rvert_{(1,0)}$.\n",
        "- Determina la matriz hessiana de $f$ en el punto $(1,0)$.\n",
        "- Considera la función $g(y):=y\\cdot f(1,y)=y\\cdot e^{1+y}$. Realiza un gráfico de dicha función y observa que posee un mínimo global. Aplica el método de Newton para calcular dicho mínimo con una tolerancia de $10^{-6}$, considerando un número máximo de $15$ iteraciones y el punto semilla $x_0=4$. \n",
        "- Vuelve a dibujar la función $g(y)$ pero marcando el mínimo hallado en la función, con un punto en color rojo."
      ]
    },
    {
      "cell_type": "code",
      "source": [
        "x,y = sym.symbols('x y')\n",
        "f = sym.exp((x**2) + (x*y))\n",
        "#a)\n",
        "gradiente = sym.Matrix([f]).jacobian([x,y])\n",
        "print('el gradiente es =' )\n",
        "display(gradiente)\n",
        "#b)\n",
        "print('La derivada sucesiva de f: yxy es = ')\n",
        "b = f.diff(y)\n",
        "b = b.diff(x)\n",
        "b = b.diff(y)\n",
        "display(b)\n",
        "res = b.subs(zip([x,y],[1,0]))\n",
        "print('resultado de sustituir =')\n",
        "display(res)\n",
        "#c)\n",
        "H = sym.hessian(f, [x, y])\n",
        "print('La hessiana de f en el punto (1,0) es =')\n",
        "display(H.subs(zip([x, y], [1,0])))\n",
        "\n",
        "#d)\n",
        "g = y*sym.exp(1+y)\n",
        "sym.plot(g, (y,-20,4), ylim=(-3,10), legend = True, size=(7,5)) #para ver el minimo a mano.\n",
        "\n",
        "def Newton(f,variable,pto_semilla,iter_max,tolerancia):\n",
        "    df=f.diff(variable)\n",
        "    xn=pto_semilla\n",
        "    xn1=xn+0.1\n",
        "    n=0\n",
        "    \n",
        "    while (np.abs(xn1-xn)>tolerancia and n<iter_max):\n",
        "        xn=xn1\n",
        "        xn1=xn1-f.subs(variable,xn1)/df.subs(variable,xn1)\n",
        "        n=n+1\n",
        "\n",
        "    return xn1\n",
        "\n",
        "d = Newton(g,y,4,15,10**-6)\n",
        "print('El resultado de aplicar el algoritmo de Newton con esas caracteristicas es = ' + str(d))\n",
        "\n",
        "#e)\n",
        "minimo = Newton(g.diff(y),y,4,15,10**-6)\n",
        "sym.plot(g, (y,-20,4), markers=[{'args': [minimo, g.subs(y,minimo)], 'color': \"red\", 'marker': \"o\", 'ms':10}], ylim=(-3,10), legend = True, size=(7,5))"
      ],
      "metadata": {
        "colab": {
          "base_uri": "https://localhost:8080/",
          "height": 1000
        },
        "id": "GEZt_06PDDxR",
        "outputId": "68f17a67-df06-4438-c203-108724b6d030"
      },
      "id": "GEZt_06PDDxR",
      "execution_count": null,
      "outputs": [
        {
          "output_type": "stream",
          "name": "stdout",
          "text": [
            "el gradiente es =\n"
          ]
        },
        {
          "output_type": "display_data",
          "data": {
            "text/plain": [
              "Matrix([[(2*x + y)*exp(x**2 + x*y), x*exp(x**2 + x*y)]])"
            ],
            "text/latex": "$\\displaystyle \\left[\\begin{matrix}\\left(2 x + y\\right) e^{x^{2} + x y} & x e^{x^{2} + x y}\\end{matrix}\\right]$"
          },
          "metadata": {}
        },
        {
          "output_type": "stream",
          "name": "stdout",
          "text": [
            "La derivada sucesiva de f: yxy es = \n"
          ]
        },
        {
          "output_type": "display_data",
          "data": {
            "text/plain": [
              "x**2*(2*x + y)*exp(x**2 + x*y) + 2*x*exp(x**2 + x*y)"
            ],
            "text/latex": "$\\displaystyle x^{2} \\cdot \\left(2 x + y\\right) e^{x^{2} + x y} + 2 x e^{x^{2} + x y}$"
          },
          "metadata": {}
        },
        {
          "output_type": "stream",
          "name": "stdout",
          "text": [
            "resultado de sustituir =\n"
          ]
        },
        {
          "output_type": "display_data",
          "data": {
            "text/plain": [
              "4*E"
            ],
            "text/latex": "$\\displaystyle 4 e$"
          },
          "metadata": {}
        },
        {
          "output_type": "stream",
          "name": "stdout",
          "text": [
            "La hessiana de f en el punto (1,0) es =\n"
          ]
        },
        {
          "output_type": "display_data",
          "data": {
            "text/plain": [
              "Matrix([\n",
              "[6*E, 3*E],\n",
              "[3*E,   E]])"
            ],
            "text/latex": "$\\displaystyle \\left[\\begin{matrix}6 e & 3 e\\\\3 e & e\\end{matrix}\\right]$"
          },
          "metadata": {}
        },
        {
          "output_type": "display_data",
          "data": {
            "text/plain": [
              "<Figure size 700x500 with 1 Axes>"
            ],
            "image/png": "[encoded data removed]"
          },
          "metadata": {}
        },
        {
          "output_type": "stream",
          "name": "stdout",
          "text": [
            "El resultado de aplicar el algoritmo de Newton con esas caracteristicas es = 4.57065756049565e-22\n"
          ]
        },
        {
          "output_type": "display_data",
          "data": {
            "text/plain": [
              "<Figure size 700x500 with 1 Axes>"
            ],
            "image/png": "[encoded data removed]"
          },
          "metadata": {}
        },
        {
          "output_type": "execute_result",
          "data": {
            "text/plain": [
              "<sympy.plotting.plot.Plot at 0x7f170811ecb0>"
            ]
          },
          "metadata": {},
          "execution_count": 129
        }
      ]
    },
    {
      "cell_type": "markdown",
      "id": "2b1b0eef",
      "metadata": {
        "id": "2b1b0eef"
      },
      "source": [
        "#### Ejercicio 5. (2 puntos).\n",
        "\n",
        "En un país se celebran elecciones cada cuatro años y los resultados de cada elección dependen únicamente de la elección anterior. Los partidos que sepresentan son: el Demócrata (D), el Liberal (L) y el Conservador (C). \n",
        "\n",
        "El 70\\% de los votantes de D votarán de nuevo a D, el 10\\% de los votantes de D votarán L y el 20\\% votarán a C. Por otro lado, el 80\\% de los votantes de L seguirán votando L, el 5\\% pasarán a votar a D y el 15\\% votarán a C. Finalmente, el 70\\% de los votantes de C votarán de nuevo a C y el 30\\% votarán a L (por lo que ningún votante de C pasará a votar a D).\n",
        "\n",
        "- Modeliza los resultados de las elecciones de un año a otro mediante un sistema de ecuaciones apropiado, donde las variables son D, L y C. \n",
        "- Construye la matriz $P$ que determina el movimiento de votos de unas elecciones a las siguientes. Comprueba que sus columnas suman $1$.\n",
        "- Si los porcentajes de votos en una elección son 55\\% para D, 40\\% para L y 5\\% para C, determina el resultado que se dará 8 años después.\n",
        "- ¿Qué porcentaje de votos tiene que obtener cada uno de los partidos en unas elecciones para que en las elecciones siguientes se obtenga exactamente el mismo resultado?"
      ]
    },
    {
      "cell_type": "code",
      "source": [
        "#no se como hacerlo y como me queda poco tiempo pues confiemos en pasar con todo lo demas jeje"
      ],
      "metadata": {
        "id": "Bt2msEjgTZTe"
      },
      "id": "Bt2msEjgTZTe",
      "execution_count": null,
      "outputs": []
    }
  ],
  "metadata": {
    "kernelspec": {
      "display_name": "Python 3 (ipykernel)",
      "language": "python",
      "name": "python3"
    },
    "language_info": {
      "codemirror_mode": {
        "name": "ipython",
        "version": 3
      },
      "file_extension": ".py",
      "mimetype": "text/x-python",
      "name": "python",
      "nbconvert_exporter": "python",
      "pygments_lexer": "ipython3",
      "version": "3.10.9"
    },
    "colab": {
      "provenance": []
    }
  },
  "nbformat": 4,
  "nbformat_minor": 5
}